{
 "cells": [
  {
   "cell_type": "markdown",
   "id": "b1135f4c",
   "metadata": {},
   "source": [
    "# Import Data"
   ]
  },
  {
   "cell_type": "code",
   "execution_count": 1,
   "id": "7f95c619",
   "metadata": {},
   "outputs": [
    {
     "name": "stdout",
     "output_type": "stream",
     "text": [
      "데이터 크기: 187088\n",
      "Examples:\n",
      " [\"Now I've heard there was a secret chord\", 'That David played, and it pleased the Lord', \"But you don't really care for music, do you?\"]\n"
     ]
    }
   ],
   "source": [
    "import glob\n",
    "import os\n",
    "\n",
    "txt_file_path = os.getenv('HOME')+'/aiffel/lyricist/data/lyrics/*'\n",
    "\n",
    "txt_list = glob.glob(txt_file_path)\n",
    "\n",
    "raw_corpus = []\n",
    "\n",
    "# 여러개의 txt 파일을 모두 읽어서 raw_corpus 에 담습니다.\n",
    "for txt_file in txt_list:\n",
    "    with open(txt_file, \"r\") as f:\n",
    "        raw = f.read().splitlines()\n",
    "        raw_corpus.extend(raw)\n",
    "\n",
    "print(\"데이터 크기:\", len(raw_corpus))\n",
    "print(\"Examples:\\n\", raw_corpus[:3])"
   ]
  },
  {
   "cell_type": "markdown",
   "id": "aec2ac0f",
   "metadata": {},
   "source": [
    "# Preprocessing"
   ]
  },
  {
   "cell_type": "code",
   "execution_count": 2,
   "id": "28d13de2",
   "metadata": {},
   "outputs": [
    {
     "name": "stdout",
     "output_type": "stream",
     "text": [
      "<start> this is sample sentence . <end>\n"
     ]
    }
   ],
   "source": [
    "import re \n",
    "# 입력된 문장을\n",
    "#     1. 소문자로 바꾸고, 양쪽 공백을 지웁니다\n",
    "#     2. 특수문자 양쪽에 공백을 넣고\n",
    "#     3. 여러개의 공백은 하나의 공백으로 바꿉니다\n",
    "#     4. a-zA-Z?.!,¿가 아닌 모든 문자를 하나의 공백으로 바꿉니다\n",
    "#     5. 다시 양쪽 공백을 지웁니다\n",
    "#     6. 문장 시작에는 <start>, 끝에는 <end>를 추가합니다\n",
    "# 이 순서로 처리해주면 문제가 되는 상황을 방지할 수 있겠네요!\n",
    "def preprocess_sentence(sentence):\n",
    "    sentence = sentence.lower().strip() # 1\n",
    "    sentence = re.sub(r\"([?.!,¿])\", r\" \\1 \", sentence) # 2\n",
    "    sentence = re.sub(r'[\" \"]+', \" \", sentence) # 3\n",
    "    sentence = re.sub(r\"[^a-zA-Z?.!,¿]+\", \" \", sentence) # 4\n",
    "    sentence = sentence.strip() # 5\n",
    "    sentence = '<start> ' + sentence + ' <end>' # 6\n",
    "    return sentence\n",
    "\n",
    "# 이 문장이 어떻게 필터링되는지 확인해 보세요.\n",
    "print(preprocess_sentence(\"This @_is ;;;sample        sentence.\"))"
   ]
  },
  {
   "cell_type": "code",
   "execution_count": 3,
   "id": "b91729c7",
   "metadata": {},
   "outputs": [
    {
     "data": {
      "text/plain": [
       "['<start> now i ve heard there was a secret chord <end>',\n",
       " '<start> that david played , and it pleased the lord <end>',\n",
       " '<start> but you don t really care for music , do you ? <end>',\n",
       " '<start> it goes like this <end>',\n",
       " '<start> the fourth , the fifth <end>',\n",
       " '<start> the minor fall , the major lift <end>',\n",
       " '<start> the baffled king composing hallelujah hallelujah <end>',\n",
       " '<start> hallelujah <end>',\n",
       " '<start> hallelujah <end>',\n",
       " '<start> hallelujah your faith was strong but you needed proof <end>']"
      ]
     },
     "execution_count": 3,
     "metadata": {},
     "output_type": "execute_result"
    }
   ],
   "source": [
    "# 여기에 정제된 문장을 모을겁니다\n",
    "corpus = []\n",
    "\n",
    "for sentence in raw_corpus:\n",
    "    # 우리가 원하지 않는 문장은 건너뜁니다\n",
    "    if len(sentence) == 0: continue\n",
    "    if sentence[-1] == \":\": continue\n",
    "    \n",
    "    # 정제를 하고 담아주세요\n",
    "    preprocessed_sentence = preprocess_sentence(sentence)\n",
    "    corpus.append(preprocessed_sentence)\n",
    "        \n",
    "# 정제된 결과를 10개만 확인해보죠\n",
    "corpus[:10]"
   ]
  },
  {
   "cell_type": "markdown",
   "id": "6a99da3f",
   "metadata": {},
   "source": [
    "# Tokenizing"
   ]
  },
  {
   "cell_type": "code",
   "execution_count": 4,
   "id": "62bb088f",
   "metadata": {},
   "outputs": [
    {
     "name": "stdout",
     "output_type": "stream",
     "text": [
      "[[   2   50    5 ...    0    0    0]\n",
      " [   2   17 2639 ...    0    0    0]\n",
      " [   2   36    7 ...   43    3    0]\n",
      " ...\n",
      " [   5   22    9 ...   10 1013    3]\n",
      " [  37   15 9049 ...  877  647    3]\n",
      " [   2    7   34 ...    0    0    0]] <keras_preprocessing.text.Tokenizer object at 0x7f5b83526820>\n"
     ]
    }
   ],
   "source": [
    "import tensorflow as tf\n",
    "# 토큰화 할 때 텐서플로우의 Tokenizer와 pad_sequences를 사용합니다\n",
    "# 더 잘 알기 위해 아래 문서들을 참고하면 좋습니다\n",
    "# https://www.tensorflow.org/api_docs/python/tf/keras/preprocessing/text/Tokenizer\n",
    "# https://www.tensorflow.org/api_docs/python/tf/keras/preprocessing/sequence/pad_sequences\n",
    "def tokenize(corpus):\n",
    "    # 12000단어를 기억할 수 있는 tokenizer를 만들겁니다\n",
    "    # 우리는 이미 문장을 정제했으니 filters가 필요없어요\n",
    "    # 12000단어에 포함되지 못한 단어는 '<unk>'로 바꿀거에요\n",
    "    tokenizer = tf.keras.preprocessing.text.Tokenizer(\n",
    "        num_words=12000, \n",
    "        filters=' ',\n",
    "        oov_token=\"<unk>\"\n",
    "    )\n",
    "    # corpus를 이용해 tokenizer 내부의 단어장을 완성합니다\n",
    "    tokenizer.fit_on_texts(corpus)\n",
    "    # 준비한 tokenizer를 이용해 corpus를 Tensor로 변환합니다\n",
    "    tensor = tokenizer.texts_to_sequences(corpus)   \n",
    "    # 입력 데이터의 시퀀스 길이를 일정하게 맞춰줍니다\n",
    "    # 만약 시퀀스가 짧다면 문장 뒤에 패딩을 붙여 길이를 맞춰줍니다.\n",
    "    # 문장 앞에 패딩을 붙여 길이를 맞추고 싶다면 padding='pre'를 사용합니다\n",
    "    tensor = tf.keras.preprocessing.sequence.pad_sequences(tensor, maxlen=15, padding='post')  \n",
    "    \n",
    "    print(tensor,tokenizer)\n",
    "    return tensor, tokenizer\n",
    "\n",
    "tensor, tokenizer = tokenize(corpus)"
   ]
  },
  {
   "cell_type": "code",
   "execution_count": 9,
   "id": "9ec70a46",
   "metadata": {},
   "outputs": [
    {
     "name": "stdout",
     "output_type": "stream",
     "text": [
      "[   2   50    5   91  297   65   57    9  969 6042    3    0    0    0]\n",
      "[  50    5   91  297   65   57    9  969 6042    3    0    0    0    0]\n"
     ]
    }
   ],
   "source": [
    "# tensor에서 마지막 토큰을 잘라내서 소스 문장을 생성합니다\n",
    "# 마지막 토큰은 <end>가 아니라 <pad>일 가능성이 높습니다.\n",
    "src_input = tensor[:, :-1]  \n",
    "# tensor에서 <start>를 잘라내서 타겟 문장을 생성합니다.\n",
    "tgt_input = tensor[:, 1:]    \n",
    "\n",
    "print(src_input[0])\n",
    "print(tgt_input[0])"
   ]
  },
  {
   "cell_type": "code",
   "execution_count": 10,
   "id": "ad8d5f0c",
   "metadata": {},
   "outputs": [],
   "source": [
    "from sklearn.model_selection import train_test_split\n",
    "enc_train, enc_val, dec_train, dec_val = train_test_split(src_input, tgt_input, test_size=0.2)"
   ]
  },
  {
   "cell_type": "code",
   "execution_count": 11,
   "id": "2762e16e",
   "metadata": {},
   "outputs": [
    {
     "name": "stdout",
     "output_type": "stream",
     "text": [
      "Source Train: (140599, 14)\n",
      "Target Train: (140599, 14)\n"
     ]
    }
   ],
   "source": [
    "print(\"Source Train:\", enc_train.shape)\n",
    "print(\"Target Train:\", dec_train.shape)"
   ]
  },
  {
   "cell_type": "code",
   "execution_count": 12,
   "id": "d3b40b55",
   "metadata": {},
   "outputs": [
    {
     "data": {
      "text/plain": [
       "<BatchDataset shapes: ((256, 14), (256, 14)), types: (tf.int32, tf.int32)>"
      ]
     },
     "execution_count": 12,
     "metadata": {},
     "output_type": "execute_result"
    }
   ],
   "source": [
    "BUFFER_SIZE = len(src_input)\n",
    "BATCH_SIZE = 256\n",
    "steps_per_epoch = len(src_input) // BATCH_SIZE\n",
    "\n",
    " # tokenizer가 구축한 단어사전 내 12000개와, 여기 포함되지 않은 0:<pad>를 포함하여 12001개\n",
    "VOCAB_SIZE = tokenizer.num_words + 1   \n",
    "\n",
    "# 준비한 데이터 소스로부터 데이터셋을 만듭니다\n",
    "# 데이터셋에 대해서는 아래 문서를 참고하세요\n",
    "# 자세히 알아둘수록 도움이 많이 되는 중요한 문서입니다\n",
    "# https://www.tensorflow.org/api_docs/python/tf/data/Dataset\n",
    "dataset = tf.data.Dataset.from_tensor_slices((src_input, tgt_input))\n",
    "dataset = dataset.shuffle(BUFFER_SIZE)\n",
    "dataset = dataset.batch(BATCH_SIZE, drop_remainder=True)\n",
    "dataset"
   ]
  },
  {
   "cell_type": "markdown",
   "id": "7a7b6577",
   "metadata": {},
   "source": [
    "# Building Text Generator (RNN)"
   ]
  },
  {
   "cell_type": "code",
   "execution_count": 13,
   "id": "69086439",
   "metadata": {},
   "outputs": [],
   "source": [
    "class TextGenerator(tf.keras.Model):\n",
    "    def __init__(self, vocab_size, embedding_size, hidden_size):\n",
    "        super().__init__()\n",
    "        \n",
    "        self.embedding = tf.keras.layers.Embedding(vocab_size, embedding_size)\n",
    "        self.rnn_1 = tf.keras.layers.LSTM(hidden_size, return_sequences=True)\n",
    "        self.rnn_2 = tf.keras.layers.LSTM(hidden_size, return_sequences=True)\n",
    "        self.linear = tf.keras.layers.Dense(vocab_size)\n",
    "        \n",
    "    def call(self, x):\n",
    "        out = self.embedding(x)\n",
    "        out = self.rnn_1(out)\n",
    "        out = self.rnn_2(out)\n",
    "        out = self.linear(out)\n",
    "        \n",
    "        return out\n",
    "    \n",
    "embedding_size = 256\n",
    "hidden_size = 1024\n",
    "lyricist = TextGenerator(tokenizer.num_words + 1, embedding_size , hidden_size)"
   ]
  },
  {
   "cell_type": "code",
   "execution_count": 14,
   "id": "c3d15ffa",
   "metadata": {
    "collapsed": true
   },
   "outputs": [
    {
     "data": {
      "text/plain": [
       "<tf.Tensor: shape=(256, 14, 12001), dtype=float32, numpy=\n",
       "array([[[-2.38552719e-04, -2.48560209e-05, -3.04112269e-04, ...,\n",
       "         -2.37825025e-05, -8.78512310e-06,  3.70333728e-05],\n",
       "        [-4.05481900e-04, -1.92683990e-04, -5.17497770e-04, ...,\n",
       "         -1.07080697e-04, -5.68269461e-05, -2.60617817e-04],\n",
       "        [-4.89027938e-04, -2.10044745e-04, -6.13109383e-04, ...,\n",
       "         -4.08626765e-05,  5.73365214e-05, -4.18646960e-04],\n",
       "        ...,\n",
       "        [-6.92383546e-05,  3.61946906e-04,  6.77706383e-04, ...,\n",
       "          1.43919664e-03,  5.77103230e-04,  4.69432503e-04],\n",
       "        [-2.33950748e-04, -1.01226906e-04,  9.92841786e-04, ...,\n",
       "          1.60385133e-03,  1.96120483e-04,  9.04763700e-04],\n",
       "        [-4.16413444e-04, -5.89196745e-04,  1.27478864e-03, ...,\n",
       "          1.71125063e-03, -1.92532811e-04,  1.34849676e-03]],\n",
       "\n",
       "       [[ 3.97848926e-05,  4.47674938e-05,  2.02841948e-05, ...,\n",
       "          1.22376572e-04,  8.40829671e-05, -3.44765394e-05],\n",
       "        [-2.50847806e-04, -1.54562062e-04, -1.57926377e-04, ...,\n",
       "          1.54860478e-04,  1.70631174e-05, -6.87550346e-05],\n",
       "        [-3.82949424e-04, -1.65709818e-04, -4.80663002e-05, ...,\n",
       "         -3.02965873e-05, -1.12374837e-04,  3.51475377e-04],\n",
       "        ...,\n",
       "        [-1.64739636e-03, -6.90672605e-04,  2.70234799e-04, ...,\n",
       "          1.38821686e-03,  5.60215092e-04, -5.72652905e-04],\n",
       "        [-1.67214533e-03, -4.38889605e-04,  3.23463872e-04, ...,\n",
       "          1.24914956e-03,  5.54270984e-04, -3.87642503e-04],\n",
       "        [-1.35922013e-03, -8.71525190e-05,  5.90042328e-04, ...,\n",
       "          1.17689034e-03,  4.03932238e-04, -3.58881458e-04]],\n",
       "\n",
       "       [[-2.38552719e-04, -2.48560209e-05, -3.04112269e-04, ...,\n",
       "         -2.37825025e-05, -8.78512310e-06,  3.70333728e-05],\n",
       "        [-1.47919331e-04, -2.99884356e-04, -4.29502630e-04, ...,\n",
       "         -2.05849850e-04, -4.22000121e-05,  1.00873760e-04],\n",
       "        [-3.13312717e-04, -4.01755678e-04, -8.21118243e-04, ...,\n",
       "         -4.50565189e-04, -2.69360316e-04,  1.57069706e-04],\n",
       "        ...,\n",
       "        [-3.48878442e-04, -1.37316907e-04, -8.08139797e-04, ...,\n",
       "          6.09753130e-04, -2.53901846e-04,  5.57331427e-04],\n",
       "        [-2.52726692e-04, -2.16009066e-04, -5.92756493e-04, ...,\n",
       "          4.15721588e-04, -2.26150194e-04,  4.84409597e-04],\n",
       "        [-2.39261732e-04, -4.08736872e-04, -3.09082912e-04, ...,\n",
       "          5.54346887e-04, -3.70354304e-04,  6.43199193e-04]],\n",
       "\n",
       "       ...,\n",
       "\n",
       "       [[-2.38552719e-04, -2.48560209e-05, -3.04112269e-04, ...,\n",
       "         -2.37825025e-05, -8.78512310e-06,  3.70333728e-05],\n",
       "        [-4.47731320e-04,  1.60297976e-04, -3.19229701e-04, ...,\n",
       "         -1.14632494e-04, -2.72366335e-04,  7.86046221e-05],\n",
       "        [-1.88952166e-04,  3.10942880e-04,  1.48934952e-04, ...,\n",
       "         -4.54160436e-05, -2.55184888e-04,  2.32069608e-04],\n",
       "        ...,\n",
       "        [ 6.79996563e-04,  4.71710882e-05,  1.12199085e-03, ...,\n",
       "         -2.93628051e-04, -1.53104460e-03,  9.16024030e-04],\n",
       "        [ 4.17201896e-04, -4.65600198e-04,  1.37928489e-03, ...,\n",
       "          9.13278491e-05, -1.71631982e-03,  1.29843189e-03],\n",
       "        [ 1.50966618e-04, -9.42545827e-04,  1.60511967e-03, ...,\n",
       "          3.95285606e-04, -1.88505650e-03,  1.69934868e-03]],\n",
       "\n",
       "       [[-2.38552719e-04, -2.48560209e-05, -3.04112269e-04, ...,\n",
       "         -2.37825025e-05, -8.78512310e-06,  3.70333728e-05],\n",
       "        [-4.42530611e-04,  1.39927404e-04, -3.95020150e-04, ...,\n",
       "         -4.10705638e-07,  2.55840587e-05,  1.19673998e-04],\n",
       "        [-6.23937754e-04,  3.44550761e-04, -7.54498527e-04, ...,\n",
       "         -2.77645478e-04, -4.66519741e-05,  8.94171753e-05],\n",
       "        ...,\n",
       "        [-1.15185615e-03, -2.02363799e-03,  1.52342219e-03, ...,\n",
       "          9.24453023e-04, -1.84564991e-03,  2.86177336e-03],\n",
       "        [-1.21924060e-03, -2.30216584e-03,  1.66763749e-03, ...,\n",
       "          9.49179812e-04, -1.98232057e-03,  3.13687022e-03],\n",
       "        [-1.28397893e-03, -2.54557515e-03,  1.76360703e-03, ...,\n",
       "          9.48891102e-04, -2.09542201e-03,  3.37086921e-03]],\n",
       "\n",
       "       [[-2.38552719e-04, -2.48560209e-05, -3.04112269e-04, ...,\n",
       "         -2.37825025e-05, -8.78512310e-06,  3.70333728e-05],\n",
       "        [-4.91454150e-04, -1.86370438e-04, -3.32345779e-04, ...,\n",
       "         -9.33183328e-05,  9.88626289e-06,  1.67487946e-04],\n",
       "        [-6.73596573e-04, -1.99979026e-04, -5.11402941e-05, ...,\n",
       "          5.02111106e-05, -1.29418768e-04,  1.52329420e-04],\n",
       "        ...,\n",
       "        [-1.56389375e-04, -9.03669512e-04,  1.19744346e-03, ...,\n",
       "          6.10885618e-04, -7.11685047e-04,  1.80417555e-03],\n",
       "        [-3.34381970e-04, -1.20480021e-03,  1.38414477e-03, ...,\n",
       "          7.21699849e-04, -9.55997850e-04,  2.22158013e-03],\n",
       "        [-5.06054435e-04, -1.51115668e-03,  1.54073688e-03, ...,\n",
       "          7.93132698e-04, -1.19115959e-03,  2.59514176e-03]]],\n",
       "      dtype=float32)>"
      ]
     },
     "execution_count": 14,
     "metadata": {},
     "output_type": "execute_result"
    }
   ],
   "source": [
    "# 데이터셋에서 데이터 한 배치만 불러오는 방법입니다.\n",
    "# 지금은 동작 원리에 너무 빠져들지 마세요~\n",
    "for src_sample, tgt_sample in dataset.take(1): break\n",
    "\n",
    "# 한 배치만 불러온 데이터를 모델에 넣어봅니다\n",
    "lyricist(src_sample)"
   ]
  },
  {
   "cell_type": "code",
   "execution_count": 15,
   "id": "8cac98e4",
   "metadata": {},
   "outputs": [
    {
     "name": "stdout",
     "output_type": "stream",
     "text": [
      "Model: \"text_generator\"\n",
      "_________________________________________________________________\n",
      "Layer (type)                 Output Shape              Param #   \n",
      "=================================================================\n",
      "embedding (Embedding)        multiple                  3072256   \n",
      "_________________________________________________________________\n",
      "lstm (LSTM)                  multiple                  5246976   \n",
      "_________________________________________________________________\n",
      "lstm_1 (LSTM)                multiple                  8392704   \n",
      "_________________________________________________________________\n",
      "dense (Dense)                multiple                  12301025  \n",
      "=================================================================\n",
      "Total params: 29,012,961\n",
      "Trainable params: 29,012,961\n",
      "Non-trainable params: 0\n",
      "_________________________________________________________________\n"
     ]
    }
   ],
   "source": [
    "lyricist.summary()"
   ]
  },
  {
   "cell_type": "markdown",
   "id": "e31baea5",
   "metadata": {},
   "source": [
    "# Model Training"
   ]
  },
  {
   "cell_type": "code",
   "execution_count": 16,
   "id": "6247b102",
   "metadata": {},
   "outputs": [
    {
     "name": "stdout",
     "output_type": "stream",
     "text": [
      "Epoch 1/10\n",
      "686/686 [==============================] - 111s 155ms/step - loss: 3.6321\n",
      "Epoch 2/10\n",
      "686/686 [==============================] - 108s 157ms/step - loss: 3.1390\n",
      "Epoch 3/10\n",
      "686/686 [==============================] - 109s 158ms/step - loss: 2.9442\n",
      "Epoch 4/10\n",
      "686/686 [==============================] - 109s 158ms/step - loss: 2.7952\n",
      "Epoch 5/10\n",
      "686/686 [==============================] - 109s 158ms/step - loss: 2.6665\n",
      "Epoch 6/10\n",
      "686/686 [==============================] - 109s 158ms/step - loss: 2.5508\n",
      "Epoch 7/10\n",
      "686/686 [==============================] - 109s 158ms/step - loss: 2.4446\n",
      "Epoch 8/10\n",
      "686/686 [==============================] - 109s 158ms/step - loss: 2.3461\n",
      "Epoch 9/10\n",
      "686/686 [==============================] - 109s 158ms/step - loss: 2.2538\n",
      "Epoch 10/10\n",
      "686/686 [==============================] - 109s 158ms/step - loss: 2.1654\n"
     ]
    },
    {
     "data": {
      "text/plain": [
       "<keras.callbacks.History at 0x7f5b00446460>"
      ]
     },
     "execution_count": 16,
     "metadata": {},
     "output_type": "execute_result"
    }
   ],
   "source": [
    "# optimizer와 loss등은 차차 배웁니다\n",
    "# 혹시 미리 알고 싶다면 아래 문서를 참고하세요\n",
    "# https://www.tensorflow.org/api_docs/python/tf/keras/optimizers\n",
    "# https://www.tensorflow.org/api_docs/python/tf/keras/losses\n",
    "# 양이 상당히 많은 편이니 지금 보는 것은 추천하지 않습니다\n",
    "optimizer = tf.keras.optimizers.Adam()\n",
    "loss = tf.keras.losses.SparseCategoricalCrossentropy(from_logits=True, reduction='none')\n",
    "\n",
    "lyricist.compile(loss=loss, optimizer=optimizer)\n",
    "lyricist.fit(dataset, epochs=10)"
   ]
  },
  {
   "cell_type": "code",
   "execution_count": 17,
   "id": "4b09c610",
   "metadata": {},
   "outputs": [],
   "source": [
    "def generate_text(model, tokenizer, init_sentence=\"<start>\", max_len=20):\n",
    "    # 테스트를 위해서 입력받은 init_sentence도 텐서로 변환합니다\n",
    "    test_input = tokenizer.texts_to_sequences([init_sentence])\n",
    "    test_tensor = tf.convert_to_tensor(test_input, dtype=tf.int64)\n",
    "    end_token = tokenizer.word_index[\"<end>\"]\n",
    "\n",
    "    # 단어 하나씩 예측해 문장을 만듭니다\n",
    "    #    1. 입력받은 문장의 텐서를 입력합니다\n",
    "    #    2. 예측된 값 중 가장 높은 확률인 word index를 뽑아냅니다\n",
    "    #    3. 2에서 예측된 word index를 문장 뒤에 붙입니다\n",
    "    #    4. 모델이 <end>를 예측했거나, max_len에 도달했다면 문장 생성을 마칩니다\n",
    "    while True:\n",
    "        # 1\n",
    "        predict = model(test_tensor) \n",
    "        # 2\n",
    "        predict_word = tf.argmax(tf.nn.softmax(predict, axis=-1), axis=-1)[:, -1] \n",
    "        # 3 \n",
    "        test_tensor = tf.concat([test_tensor, tf.expand_dims(predict_word, axis=0)], axis=-1)\n",
    "        # 4\n",
    "        if predict_word.numpy()[0] == end_token: break\n",
    "        if test_tensor.shape[1] >= max_len: break\n",
    "\n",
    "    generated = \"\"\n",
    "    # tokenizer를 이용해 word index를 단어로 하나씩 변환합니다 \n",
    "    for word_index in test_tensor[0].numpy():\n",
    "        generated += tokenizer.index_word[word_index] + \" \"\n",
    "\n",
    "    return generated"
   ]
  },
  {
   "cell_type": "markdown",
   "id": "ab22faf5",
   "metadata": {},
   "source": [
    "# Conclusion"
   ]
  },
  {
   "cell_type": "code",
   "execution_count": 18,
   "id": "df4754f2",
   "metadata": {},
   "outputs": [
    {
     "data": {
      "text/plain": [
       "'<start> i love you , baby , baby , baby <end> '"
      ]
     },
     "execution_count": 18,
     "metadata": {},
     "output_type": "execute_result"
    }
   ],
   "source": [
    "generate_text(lyricist, tokenizer, init_sentence=\"<start> i love\", max_len=20)"
   ]
  },
  {
   "cell_type": "markdown",
   "id": "672487f3",
   "metadata": {},
   "source": [
    "# 회고"
   ]
  },
  {
   "cell_type": "markdown",
   "id": "db07d95f",
   "metadata": {},
   "source": [
    "정규표현식을 이용한 전처리 - 자연어 전처리를 위해서라도 정규표현식을 잘 익혀 놓아야겠다고 생각했음.. 예전에 한국어 전처리를 할 때 누군가가 만들어 놓은 패키지를 사용했던 적이 있었는데 내가 정규표현식을 잘 다룰 줄 알면 훨씬 자유도 높게 데이터를 내가 만들고 싶은 대로 만들 수 있겠다고 생각이 듬"
   ]
  },
  {
   "cell_type": "markdown",
   "id": "0e92c06d",
   "metadata": {},
   "source": [
    "vocab size, padding의 개념에 대해 제대로 되짚을 수 있어서 좋았음"
   ]
  },
  {
   "cell_type": "markdown",
   "id": "0612d320",
   "metadata": {},
   "source": [
    "RNN 말고도 BERT나 GPT같은 많은 성능좋은 모델이 있는 것으로 알고 있는데 각 모델들의 작동 원리 차이에 대해 제대로 배울 수 있는 시간이 있었으면 좋겠다!"
   ]
  },
  {
   "cell_type": "markdown",
   "id": "f51a3cb8",
   "metadata": {},
   "source": [
    "optimizer나 loss 내용을 한번 짚고 넘어가 보고 싶었는데 차차 배운다니 기대가 됨"
   ]
  },
  {
   "cell_type": "markdown",
   "id": "b51ed91e",
   "metadata": {},
   "source": [
    "맨처음 데이터 불러와서 샘플 확인할때 내가 좋아하는 노래 가사 나와서 기분이 좋았음,,슈렉노래"
   ]
  },
  {
   "cell_type": "markdown",
   "id": "c1add3b1",
   "metadata": {},
   "source": [
    "저 모델의 validation loss는 약 2.16이고, 모델이 만들어 낸 가사는.. 맘에 안들지만 말이 안 되진 않는 듯 하다"
   ]
  }
 ],
 "metadata": {
  "kernelspec": {
   "display_name": "Python 3 (ipykernel)",
   "language": "python",
   "name": "python3"
  },
  "language_info": {
   "codemirror_mode": {
    "name": "ipython",
    "version": 3
   },
   "file_extension": ".py",
   "mimetype": "text/x-python",
   "name": "python",
   "nbconvert_exporter": "python",
   "pygments_lexer": "ipython3",
   "version": "3.9.7"
  }
 },
 "nbformat": 4,
 "nbformat_minor": 5
}
