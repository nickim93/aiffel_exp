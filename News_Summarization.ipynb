{
 "cells": [
  {
   "cell_type": "markdown",
   "id": "7d91dac7",
   "metadata": {},
   "source": [
    "# 1. 데이터 다운로드"
   ]
  },
  {
   "cell_type": "code",
   "execution_count": 2,
   "id": "51cca63d",
   "metadata": {},
   "outputs": [
    {
     "name": "stderr",
     "output_type": "stream",
     "text": [
      "[nltk_data] Downloading package stopwords to /aiffel/nltk_data...\n",
      "[nltk_data]   Package stopwords is already up-to-date!\n"
     ]
    },
    {
     "name": "stdout",
     "output_type": "stream",
     "text": [
      "=3\n"
     ]
    }
   ],
   "source": [
    "import nltk\n",
    "nltk.download('stopwords')\n",
    "\n",
    "import numpy as np\n",
    "import pandas as pd\n",
    "import os\n",
    "import re\n",
    "import matplotlib.pyplot as plt\n",
    "from nltk.corpus import stopwords\n",
    "from bs4 import BeautifulSoup \n",
    "from tensorflow.keras.preprocessing.text import Tokenizer \n",
    "from tensorflow.keras.preprocessing.sequence import pad_sequences\n",
    "import urllib.request\n",
    "import warnings\n",
    "warnings.filterwarnings(\"ignore\", category=UserWarning, module='bs4')\n",
    "\n",
    "print('=3')"
   ]
  },
  {
   "cell_type": "code",
   "execution_count": 3,
   "id": "b9dea73d",
   "metadata": {},
   "outputs": [],
   "source": [
    "import urllib.request\n",
    "urllib.request.urlretrieve(\"https://raw.githubusercontent.com/sunnysai12345/News_Summary/master/news_summary_more.csv\", filename=\"news_summary_more.csv\")\n",
    "data = pd.read_csv('news_summary_more.csv', encoding='iso-8859-1')"
   ]
  },
  {
   "cell_type": "code",
   "execution_count": 4,
   "id": "b8c3a5f3",
   "metadata": {},
   "outputs": [
    {
     "data": {
      "text/html": [
       "<div>\n",
       "<style scoped>\n",
       "    .dataframe tbody tr th:only-of-type {\n",
       "        vertical-align: middle;\n",
       "    }\n",
       "\n",
       "    .dataframe tbody tr th {\n",
       "        vertical-align: top;\n",
       "    }\n",
       "\n",
       "    .dataframe thead th {\n",
       "        text-align: right;\n",
       "    }\n",
       "</style>\n",
       "<table border=\"1\" class=\"dataframe\">\n",
       "  <thead>\n",
       "    <tr style=\"text-align: right;\">\n",
       "      <th></th>\n",
       "      <th>headlines</th>\n",
       "      <th>text</th>\n",
       "    </tr>\n",
       "  </thead>\n",
       "  <tbody>\n",
       "    <tr>\n",
       "      <th>42544</th>\n",
       "      <td>Trump exempts EU, other trade allies from meta...</td>\n",
       "      <td>US President Donald Trump has temporarily exem...</td>\n",
       "    </tr>\n",
       "    <tr>\n",
       "      <th>93201</th>\n",
       "      <td>Chapecoense win first title since Colombia air...</td>\n",
       "      <td>Brazilian football club Chapecoense won their ...</td>\n",
       "    </tr>\n",
       "    <tr>\n",
       "      <th>14416</th>\n",
       "      <td>Ã¢ÂÂ¹5,800 sunglasses that can block out TV s...</td>\n",
       "      <td>Ivan Cash, a US-based inventor, has designed a...</td>\n",
       "    </tr>\n",
       "    <tr>\n",
       "      <th>50373</th>\n",
       "      <td>Union MoS RK Singh threatens to slit throat of...</td>\n",
       "      <td>Addressing the special village development cam...</td>\n",
       "    </tr>\n",
       "    <tr>\n",
       "      <th>41433</th>\n",
       "      <td>Warner refuses to say if teammates knew about ...</td>\n",
       "      <td>Addressing a press conference over the ball-ta...</td>\n",
       "    </tr>\n",
       "    <tr>\n",
       "      <th>96008</th>\n",
       "      <td>Oppo fires Chinese employee for tearing Indian...</td>\n",
       "      <td>Chinese smartphone maker Oppo has fired one of...</td>\n",
       "    </tr>\n",
       "    <tr>\n",
       "      <th>76554</th>\n",
       "      <td>Airtel asked to pay Ã¢ÂÂ¹44.5 to consumer for...</td>\n",
       "      <td>Bharti Airtel has been asked to refund Ã¢ÂÂ¹4...</td>\n",
       "    </tr>\n",
       "    <tr>\n",
       "      <th>1796</th>\n",
       "      <td>Aged just like fine wine: RCB share Kohli's 10...</td>\n",
       "      <td>IPL franchise Royal Challengers Bangalore (RCB...</td>\n",
       "    </tr>\n",
       "    <tr>\n",
       "      <th>22813</th>\n",
       "      <td>Mandhana has scored 338 runs in 1st 6 games in...</td>\n",
       "      <td>India's 22-year-old cricketer Smriti Mandhana ...</td>\n",
       "    </tr>\n",
       "    <tr>\n",
       "      <th>4834</th>\n",
       "      <td>Alleged rape victim attempts self immolation i...</td>\n",
       "      <td>An alleged gangrape victim tried to immolate h...</td>\n",
       "    </tr>\n",
       "  </tbody>\n",
       "</table>\n",
       "</div>"
      ],
      "text/plain": [
       "                                               headlines  \\\n",
       "42544  Trump exempts EU, other trade allies from meta...   \n",
       "93201  Chapecoense win first title since Colombia air...   \n",
       "14416  Ã¢ÂÂ¹5,800 sunglasses that can block out TV s...   \n",
       "50373  Union MoS RK Singh threatens to slit throat of...   \n",
       "41433  Warner refuses to say if teammates knew about ...   \n",
       "96008  Oppo fires Chinese employee for tearing Indian...   \n",
       "76554  Airtel asked to pay Ã¢ÂÂ¹44.5 to consumer for...   \n",
       "1796   Aged just like fine wine: RCB share Kohli's 10...   \n",
       "22813  Mandhana has scored 338 runs in 1st 6 games in...   \n",
       "4834   Alleged rape victim attempts self immolation i...   \n",
       "\n",
       "                                                    text  \n",
       "42544  US President Donald Trump has temporarily exem...  \n",
       "93201  Brazilian football club Chapecoense won their ...  \n",
       "14416  Ivan Cash, a US-based inventor, has designed a...  \n",
       "50373  Addressing the special village development cam...  \n",
       "41433  Addressing a press conference over the ball-ta...  \n",
       "96008  Chinese smartphone maker Oppo has fired one of...  \n",
       "76554  Bharti Airtel has been asked to refund Ã¢ÂÂ¹4...  \n",
       "1796   IPL franchise Royal Challengers Bangalore (RCB...  \n",
       "22813  India's 22-year-old cricketer Smriti Mandhana ...  \n",
       "4834   An alleged gangrape victim tried to immolate h...  "
      ]
     },
     "execution_count": 4,
     "metadata": {},
     "output_type": "execute_result"
    }
   ],
   "source": [
    "data.sample(10)"
   ]
  },
  {
   "cell_type": "code",
   "execution_count": 66,
   "id": "a55bcb29",
   "metadata": {},
   "outputs": [
    {
     "name": "stdout",
     "output_type": "stream",
     "text": [
      "286\n",
      "59\n"
     ]
    }
   ],
   "source": [
    "print(len(data['text'][0]))\n",
    "print(len(data['headlines'][0]))"
   ]
  },
  {
   "cell_type": "markdown",
   "id": "aa9c703f",
   "metadata": {},
   "source": [
    "# 2. 데이터 전처리하기 (추상적 요약)"
   ]
  },
  {
   "cell_type": "code",
   "execution_count": 6,
   "id": "2b468136",
   "metadata": {},
   "outputs": [
    {
     "name": "stdout",
     "output_type": "stream",
     "text": [
      "Text 열에서 중복을 배제한 유일한 샘플의 수 : 98360\n",
      "Summary 열에서 중복을 배제한 유일한 샘플의 수 : 98280\n"
     ]
    }
   ],
   "source": [
    "print('Text 열에서 중복을 배제한 유일한 샘플의 수 :', data['text'].nunique())\n",
    "print('Summary 열에서 중복을 배제한 유일한 샘플의 수 :', data['headlines'].nunique())"
   ]
  },
  {
   "cell_type": "code",
   "execution_count": 7,
   "id": "88f782e7",
   "metadata": {},
   "outputs": [
    {
     "name": "stdout",
     "output_type": "stream",
     "text": [
      "전체 샘플수 : 98360\n"
     ]
    }
   ],
   "source": [
    "# inplace=True 를 설정하면 DataFrame 타입 값을 return 하지 않고 data 내부를 직접적으로 바꿉니다\n",
    "data.drop_duplicates(subset = ['text'], inplace=True)\n",
    "print('전체 샘플수 :', (len(data)))"
   ]
  },
  {
   "cell_type": "code",
   "execution_count": 8,
   "id": "872848d0",
   "metadata": {},
   "outputs": [
    {
     "name": "stdout",
     "output_type": "stream",
     "text": [
      "headlines    0\n",
      "text         0\n",
      "dtype: int64\n"
     ]
    }
   ],
   "source": [
    "print(data.isnull().sum())"
   ]
  },
  {
   "cell_type": "code",
   "execution_count": 9,
   "id": "9e762768",
   "metadata": {},
   "outputs": [
    {
     "name": "stdout",
     "output_type": "stream",
     "text": [
      "정규화 사전의 수:  120\n"
     ]
    }
   ],
   "source": [
    "contractions = {\"ain't\": \"is not\", \"aren't\": \"are not\",\"can't\": \"cannot\", \"'cause\": \"because\", \"could've\": \"could have\", \"couldn't\": \"could not\",\n",
    "                           \"didn't\": \"did not\",  \"doesn't\": \"does not\", \"don't\": \"do not\", \"hadn't\": \"had not\", \"hasn't\": \"has not\", \"haven't\": \"have not\",\n",
    "                           \"he'd\": \"he would\",\"he'll\": \"he will\", \"he's\": \"he is\", \"how'd\": \"how did\", \"how'd'y\": \"how do you\", \"how'll\": \"how will\", \"how's\": \"how is\",\n",
    "                           \"I'd\": \"I would\", \"I'd've\": \"I would have\", \"I'll\": \"I will\", \"I'll've\": \"I will have\",\"I'm\": \"I am\", \"I've\": \"I have\", \"i'd\": \"i would\",\n",
    "                           \"i'd've\": \"i would have\", \"i'll\": \"i will\",  \"i'll've\": \"i will have\",\"i'm\": \"i am\", \"i've\": \"i have\", \"isn't\": \"is not\", \"it'd\": \"it would\",\n",
    "                           \"it'd've\": \"it would have\", \"it'll\": \"it will\", \"it'll've\": \"it will have\",\"it's\": \"it is\", \"let's\": \"let us\", \"ma'am\": \"madam\",\n",
    "                           \"mayn't\": \"may not\", \"might've\": \"might have\",\"mightn't\": \"might not\",\"mightn't've\": \"might not have\", \"must've\": \"must have\",\n",
    "                           \"mustn't\": \"must not\", \"mustn't've\": \"must not have\", \"needn't\": \"need not\", \"needn't've\": \"need not have\",\"o'clock\": \"of the clock\",\n",
    "                           \"oughtn't\": \"ought not\", \"oughtn't've\": \"ought not have\", \"shan't\": \"shall not\", \"sha'n't\": \"shall not\", \"shan't've\": \"shall not have\",\n",
    "                           \"she'd\": \"she would\", \"she'd've\": \"she would have\", \"she'll\": \"she will\", \"she'll've\": \"she will have\", \"she's\": \"she is\",\n",
    "                           \"should've\": \"should have\", \"shouldn't\": \"should not\", \"shouldn't've\": \"should not have\", \"so've\": \"so have\",\"so's\": \"so as\",\n",
    "                           \"this's\": \"this is\",\"that'd\": \"that would\", \"that'd've\": \"that would have\", \"that's\": \"that is\", \"there'd\": \"there would\",\n",
    "                           \"there'd've\": \"there would have\", \"there's\": \"there is\", \"here's\": \"here is\",\"they'd\": \"they would\", \"they'd've\": \"they would have\",\n",
    "                           \"they'll\": \"they will\", \"they'll've\": \"they will have\", \"they're\": \"they are\", \"they've\": \"they have\", \"to've\": \"to have\",\n",
    "                           \"wasn't\": \"was not\", \"we'd\": \"we would\", \"we'd've\": \"we would have\", \"we'll\": \"we will\", \"we'll've\": \"we will have\", \"we're\": \"we are\",\n",
    "                           \"we've\": \"we have\", \"weren't\": \"were not\", \"what'll\": \"what will\", \"what'll've\": \"what will have\", \"what're\": \"what are\",\n",
    "                           \"what's\": \"what is\", \"what've\": \"what have\", \"when's\": \"when is\", \"when've\": \"when have\", \"where'd\": \"where did\", \"where's\": \"where is\",\n",
    "                           \"where've\": \"where have\", \"who'll\": \"who will\", \"who'll've\": \"who will have\", \"who's\": \"who is\", \"who've\": \"who have\",\n",
    "                           \"why's\": \"why is\", \"why've\": \"why have\", \"will've\": \"will have\", \"won't\": \"will not\", \"won't've\": \"will not have\",\n",
    "                           \"would've\": \"would have\", \"wouldn't\": \"would not\", \"wouldn't've\": \"would not have\", \"y'all\": \"you all\",\n",
    "                           \"y'all'd\": \"you all would\",\"y'all'd've\": \"you all would have\",\"y'all're\": \"you all are\",\"y'all've\": \"you all have\",\n",
    "                           \"you'd\": \"you would\", \"you'd've\": \"you would have\", \"you'll\": \"you will\", \"you'll've\": \"you will have\",\n",
    "                           \"you're\": \"you are\", \"you've\": \"you have\"}\n",
    "\n",
    "print(\"정규화 사전의 수: \", len(contractions))"
   ]
  },
  {
   "cell_type": "code",
   "execution_count": 10,
   "id": "ad34105a",
   "metadata": {},
   "outputs": [
    {
     "name": "stdout",
     "output_type": "stream",
     "text": [
      "불용어 개수 : 179\n",
      "['i', 'me', 'my', 'myself', 'we', 'our', 'ours', 'ourselves', 'you', \"you're\", \"you've\", \"you'll\", \"you'd\", 'your', 'yours', 'yourself', 'yourselves', 'he', 'him', 'his', 'himself', 'she', \"she's\", 'her', 'hers', 'herself', 'it', \"it's\", 'its', 'itself', 'they', 'them', 'their', 'theirs', 'themselves', 'what', 'which', 'who', 'whom', 'this', 'that', \"that'll\", 'these', 'those', 'am', 'is', 'are', 'was', 'were', 'be', 'been', 'being', 'have', 'has', 'had', 'having', 'do', 'does', 'did', 'doing', 'a', 'an', 'the', 'and', 'but', 'if', 'or', 'because', 'as', 'until', 'while', 'of', 'at', 'by', 'for', 'with', 'about', 'against', 'between', 'into', 'through', 'during', 'before', 'after', 'above', 'below', 'to', 'from', 'up', 'down', 'in', 'out', 'on', 'off', 'over', 'under', 'again', 'further', 'then', 'once', 'here', 'there', 'when', 'where', 'why', 'how', 'all', 'any', 'both', 'each', 'few', 'more', 'most', 'other', 'some', 'such', 'no', 'nor', 'not', 'only', 'own', 'same', 'so', 'than', 'too', 'very', 's', 't', 'can', 'will', 'just', 'don', \"don't\", 'should', \"should've\", 'now', 'd', 'll', 'm', 'o', 're', 've', 'y', 'ain', 'aren', \"aren't\", 'couldn', \"couldn't\", 'didn', \"didn't\", 'doesn', \"doesn't\", 'hadn', \"hadn't\", 'hasn', \"hasn't\", 'haven', \"haven't\", 'isn', \"isn't\", 'ma', 'mightn', \"mightn't\", 'mustn', \"mustn't\", 'needn', \"needn't\", 'shan', \"shan't\", 'shouldn', \"shouldn't\", 'wasn', \"wasn't\", 'weren', \"weren't\", 'won', \"won't\", 'wouldn', \"wouldn't\"]\n"
     ]
    }
   ],
   "source": [
    "print('불용어 개수 :', len(stopwords.words('english') ))\n",
    "print(stopwords.words('english'))"
   ]
  },
  {
   "cell_type": "code",
   "execution_count": 11,
   "id": "acb9a5bc",
   "metadata": {},
   "outputs": [
    {
     "name": "stdout",
     "output_type": "stream",
     "text": [
      "=3\n"
     ]
    }
   ],
   "source": [
    "# 데이터 전처리 함수\n",
    "def preprocess_sentence(sentence, remove_stopwords=True):\n",
    "    sentence = sentence.lower() # 텍스트 소문자화\n",
    "    sentence = BeautifulSoup(sentence, \"lxml\").text # <br />, <a href = ...> 등의 html 태그 제거\n",
    "    sentence = re.sub(r'\\([^)]*\\)', '', sentence) # 괄호로 닫힌 문자열 (...) 제거 Ex) my husband (and myself!) for => my husband for\n",
    "    sentence = re.sub('\"','', sentence) # 쌍따옴표 \" 제거\n",
    "    sentence = ' '.join([contractions[t] if t in contractions else t for t in sentence.split(\" \")]) # 약어 정규화\n",
    "    sentence = re.sub(r\"'s\\b\",\"\", sentence) # 소유격 제거. Ex) roland's -> roland\n",
    "    sentence = re.sub(\"[^a-zA-Z]\", \" \", sentence) # 영어 외 문자(숫자, 특수문자 등) 공백으로 변환\n",
    "    sentence = re.sub('[m]{2,}', 'mm', sentence) # m이 3개 이상이면 2개로 변경. Ex) ummmmmmm yeah -> umm yeah\n",
    "    \n",
    "    # 불용어 제거 (Text)\n",
    "    if remove_stopwords:\n",
    "        tokens = ' '.join(word for word in sentence.split() if not word in stopwords.words('english') if len(word) > 1)\n",
    "    # 불용어 미제거 (Summary)\n",
    "    else:\n",
    "        tokens = ' '.join(word for word in sentence.split() if len(word) > 1)\n",
    "    return tokens\n",
    "print('=3')"
   ]
  },
  {
   "cell_type": "code",
   "execution_count": 12,
   "id": "1f63b2ea",
   "metadata": {},
   "outputs": [
    {
     "name": "stdout",
     "output_type": "stream",
     "text": [
      "text:  everything bought great infact ordered twice third ordered wasfor mother father\n",
      "summary: great way to start the day\n"
     ]
    }
   ],
   "source": [
    "temp_text = 'Everything I bought was great, infact I ordered twice and the third ordered was<br />for my mother and father.'\n",
    "temp_summary = 'Great way to start (or finish) the day!!!'\n",
    "\n",
    "print(\"text: \", preprocess_sentence(temp_text))\n",
    "print(\"summary:\", preprocess_sentence(temp_summary, False))  # 불용어를 제거하지 않습니다."
   ]
  },
  {
   "cell_type": "code",
   "execution_count": 13,
   "id": "236a6282",
   "metadata": {},
   "outputs": [
    {
     "name": "stdout",
     "output_type": "stream",
     "text": [
      "Text 전처리 후 결과:  ['saurav kant alumnus upgrad iiit pg program machine learning artificial intelligence sr systems engineer infosys almost years work experience program upgrad degree career support helped transition data scientist tech mahindra salary hike upgrad online power learning powered lakh careers', 'kunal shah credit card bill payment platform cred gave users chance win free food swiggy one year pranav kaushik delhi techie bagged reward spending cred coins users get one cred coin per rupee bill paid used avail rewards brands like ixigo bookmyshow ubereats cult fit', 'new zealand defeated india wickets fourth odi hamilton thursday win first match five match odi series india lost international match rohit sharma captaincy consecutive victories dating back march match witnessed india getting seventh lowest total odi cricket history', 'aegon life iterm insurance plan customers enjoy tax benefits premiums paid save taxes plan provides life cover age years also customers options insure critical illnesses disability accidental death benefit rider life cover age years', 'speaking sexual harassment allegations rajkumar hirani sonam kapoor said known hirani many years true metoo movement get derailed metoo movement always believe woman case need reserve judgment added hirani accused assistant worked sanju']\n"
     ]
    }
   ],
   "source": [
    "clean_text = []\n",
    "# 전체 Text 데이터에 대한 전처리 : 10분 이상 시간이 걸릴 수 있습니다. \n",
    "for s in data['text']:\n",
    "    clean_text.append(preprocess_sentence(s))\n",
    "\n",
    "# 전처리 후 출력\n",
    "print(\"Text 전처리 후 결과: \", clean_text[:5])"
   ]
  },
  {
   "cell_type": "code",
   "execution_count": 15,
   "id": "75b0fa14",
   "metadata": {},
   "outputs": [
    {
     "name": "stdout",
     "output_type": "stream",
     "text": [
      "Summary 전처리 후 결과:  ['upgrad learner switches to career in ml al with salary hike', 'delhi techie wins free food from swiggy for one year on cred', 'new zealand end rohit sharma led india match winning streak', 'aegon life iterm insurance plan helps customers save tax', 'have known hirani for yrs what if metoo claims are not true sonam']\n"
     ]
    }
   ],
   "source": [
    "clean_summary = []\n",
    "# 전체 Summary 데이터에 대한 전처리 : 5분 이상 시간이 걸릴 수 있습니다. \n",
    "for s in data['headlines']:\n",
    "    clean_summary.append(preprocess_sentence(s, False))\n",
    "\n",
    "print(\"Summary 전처리 후 결과: \", clean_summary[:5])"
   ]
  },
  {
   "cell_type": "code",
   "execution_count": 16,
   "id": "fe9fdd8c",
   "metadata": {},
   "outputs": [
    {
     "name": "stdout",
     "output_type": "stream",
     "text": [
      "=3\n"
     ]
    }
   ],
   "source": [
    "data['text'] = clean_text\n",
    "data['headlines'] = clean_summary\n",
    "\n",
    "# 빈 값을 Null 값으로 변환\n",
    "data.replace('', np.nan, inplace=True)\n",
    "print('=3')"
   ]
  },
  {
   "cell_type": "code",
   "execution_count": 17,
   "id": "67e6fccf",
   "metadata": {},
   "outputs": [
    {
     "data": {
      "text/plain": [
       "headlines    0\n",
       "text         0\n",
       "dtype: int64"
      ]
     },
     "execution_count": 17,
     "metadata": {},
     "output_type": "execute_result"
    }
   ],
   "source": [
    "data.isnull().sum()"
   ]
  },
  {
   "cell_type": "markdown",
   "id": "d44120ba",
   "metadata": {},
   "source": [
    "### train/test 나누기"
   ]
  },
  {
   "cell_type": "code",
   "execution_count": 18,
   "id": "7a126df1",
   "metadata": {},
   "outputs": [
    {
     "name": "stdout",
     "output_type": "stream",
     "text": [
      "텍스트의 최소 길이 : 1\n",
      "텍스트의 최대 길이 : 60\n",
      "텍스트의 평균 길이 : 35.09968483123221\n",
      "요약의 최소 길이 : 1\n",
      "요약의 최대 길이 : 16\n",
      "요약의 평균 길이 : 9.299532330215534\n"
     ]
    },
    {
     "data": {
      "image/png": "[encoded data removed]",
      "text/plain": [
       "<Figure size 432x288 with 2 Axes>"
      ]
     },
     "metadata": {
      "needs_background": "light"
     },
     "output_type": "display_data"
    },
    {
     "data": {
      "image/png": "[encoded data removed]",
      "text/plain": [
       "<Figure size 432x288 with 1 Axes>"
      ]
     },
     "metadata": {
      "needs_background": "light"
     },
     "output_type": "display_data"
    },
    {
     "data": {
      "image/png": "[encoded data removed]",
      "text/plain": [
       "<Figure size 432x288 with 1 Axes>"
      ]
     },
     "metadata": {
      "needs_background": "light"
     },
     "output_type": "display_data"
    }
   ],
   "source": [
    "# 길이 분포 출력\n",
    "import matplotlib.pyplot as plt\n",
    "\n",
    "text_len = [len(s.split()) for s in data['text']]\n",
    "summary_len = [len(s.split()) for s in data['headlines']]\n",
    "\n",
    "print('텍스트의 최소 길이 : {}'.format(np.min(text_len)))\n",
    "print('텍스트의 최대 길이 : {}'.format(np.max(text_len)))\n",
    "print('텍스트의 평균 길이 : {}'.format(np.mean(text_len)))\n",
    "print('요약의 최소 길이 : {}'.format(np.min(summary_len)))\n",
    "print('요약의 최대 길이 : {}'.format(np.max(summary_len)))\n",
    "print('요약의 평균 길이 : {}'.format(np.mean(summary_len)))\n",
    "\n",
    "plt.subplot(1,2,1)\n",
    "plt.boxplot(text_len)\n",
    "plt.title('text')\n",
    "plt.subplot(1,2,2)\n",
    "plt.boxplot(summary_len)\n",
    "plt.title('headlines')\n",
    "plt.tight_layout()\n",
    "plt.show()\n",
    "\n",
    "plt.title('text')\n",
    "plt.hist(text_len, bins = 40)\n",
    "plt.xlabel('length of samples')\n",
    "plt.ylabel('number of samples')\n",
    "plt.show()\n",
    "\n",
    "plt.title('headlines')\n",
    "plt.hist(summary_len, bins = 40)\n",
    "plt.xlabel('length of samples')\n",
    "plt.ylabel('number of samples')\n",
    "plt.show()"
   ]
  },
  {
   "cell_type": "code",
   "execution_count": 19,
   "id": "6a2c58a9",
   "metadata": {},
   "outputs": [
    {
     "name": "stdout",
     "output_type": "stream",
     "text": [
      "=3\n"
     ]
    }
   ],
   "source": [
    "text_max_len = 45\n",
    "summary_max_len = 13\n",
    "print('=3')"
   ]
  },
  {
   "cell_type": "code",
   "execution_count": 20,
   "id": "c6b70236",
   "metadata": {},
   "outputs": [
    {
     "name": "stdout",
     "output_type": "stream",
     "text": [
      "=3\n"
     ]
    }
   ],
   "source": [
    "def below_threshold_len(max_len, nested_list):\n",
    "  cnt = 0\n",
    "  for s in nested_list:\n",
    "    if(len(s.split()) <= max_len):\n",
    "        cnt = cnt + 1\n",
    "  print('전체 샘플 중 길이가 %s 이하인 샘플의 비율: %s'%(max_len, (cnt / len(nested_list))))\n",
    "print('=3')"
   ]
  },
  {
   "cell_type": "code",
   "execution_count": 21,
   "id": "29385a6e",
   "metadata": {},
   "outputs": [
    {
     "name": "stdout",
     "output_type": "stream",
     "text": [
      "전체 샘플 중 길이가 45 이하인 샘플의 비율: 0.9967771451809678\n",
      "전체 샘플 중 길이가 13 이하인 샘플의 비율: 0.9981699877999186\n"
     ]
    }
   ],
   "source": [
    "below_threshold_len(text_max_len, data['text'])\n",
    "below_threshold_len(summary_max_len,  data['headlines'])"
   ]
  },
  {
   "cell_type": "code",
   "execution_count": 22,
   "id": "d0c44411",
   "metadata": {},
   "outputs": [
    {
     "name": "stdout",
     "output_type": "stream",
     "text": [
      "전체 샘플수 : 97863\n"
     ]
    }
   ],
   "source": [
    "data = data[data['text'].apply(lambda x: len(x.split()) <= text_max_len)]\n",
    "data = data[data['headlines'].apply(lambda x: len(x.split()) <= summary_max_len)]\n",
    "print('전체 샘플수 :', (len(data)))"
   ]
  },
  {
   "cell_type": "code",
   "execution_count": 23,
   "id": "6dfa6c65",
   "metadata": {},
   "outputs": [
    {
     "data": {
      "text/html": [
       "<div>\n",
       "<style scoped>\n",
       "    .dataframe tbody tr th:only-of-type {\n",
       "        vertical-align: middle;\n",
       "    }\n",
       "\n",
       "    .dataframe tbody tr th {\n",
       "        vertical-align: top;\n",
       "    }\n",
       "\n",
       "    .dataframe thead th {\n",
       "        text-align: right;\n",
       "    }\n",
       "</style>\n",
       "<table border=\"1\" class=\"dataframe\">\n",
       "  <thead>\n",
       "    <tr style=\"text-align: right;\">\n",
       "      <th></th>\n",
       "      <th>headlines</th>\n",
       "      <th>text</th>\n",
       "      <th>decoder_input</th>\n",
       "      <th>decoder_target</th>\n",
       "    </tr>\n",
       "  </thead>\n",
       "  <tbody>\n",
       "    <tr>\n",
       "      <th>0</th>\n",
       "      <td>upgrad learner switches to career in ml al wit...</td>\n",
       "      <td>saurav kant alumnus upgrad iiit pg program mac...</td>\n",
       "      <td>sostoken upgrad learner switches to career in ...</td>\n",
       "      <td>upgrad learner switches to career in ml al wit...</td>\n",
       "    </tr>\n",
       "    <tr>\n",
       "      <th>1</th>\n",
       "      <td>delhi techie wins free food from swiggy for on...</td>\n",
       "      <td>kunal shah credit card bill payment platform c...</td>\n",
       "      <td>sostoken delhi techie wins free food from swig...</td>\n",
       "      <td>delhi techie wins free food from swiggy for on...</td>\n",
       "    </tr>\n",
       "    <tr>\n",
       "      <th>2</th>\n",
       "      <td>new zealand end rohit sharma led india match w...</td>\n",
       "      <td>new zealand defeated india wickets fourth odi ...</td>\n",
       "      <td>sostoken new zealand end rohit sharma led indi...</td>\n",
       "      <td>new zealand end rohit sharma led india match w...</td>\n",
       "    </tr>\n",
       "    <tr>\n",
       "      <th>3</th>\n",
       "      <td>aegon life iterm insurance plan helps customer...</td>\n",
       "      <td>aegon life iterm insurance plan customers enjo...</td>\n",
       "      <td>sostoken aegon life iterm insurance plan helps...</td>\n",
       "      <td>aegon life iterm insurance plan helps customer...</td>\n",
       "    </tr>\n",
       "    <tr>\n",
       "      <th>4</th>\n",
       "      <td>have known hirani for yrs what if metoo claims...</td>\n",
       "      <td>speaking sexual harassment allegations rajkuma...</td>\n",
       "      <td>sostoken have known hirani for yrs what if met...</td>\n",
       "      <td>have known hirani for yrs what if metoo claims...</td>\n",
       "    </tr>\n",
       "  </tbody>\n",
       "</table>\n",
       "</div>"
      ],
      "text/plain": [
       "                                           headlines  \\\n",
       "0  upgrad learner switches to career in ml al wit...   \n",
       "1  delhi techie wins free food from swiggy for on...   \n",
       "2  new zealand end rohit sharma led india match w...   \n",
       "3  aegon life iterm insurance plan helps customer...   \n",
       "4  have known hirani for yrs what if metoo claims...   \n",
       "\n",
       "                                                text  \\\n",
       "0  saurav kant alumnus upgrad iiit pg program mac...   \n",
       "1  kunal shah credit card bill payment platform c...   \n",
       "2  new zealand defeated india wickets fourth odi ...   \n",
       "3  aegon life iterm insurance plan customers enjo...   \n",
       "4  speaking sexual harassment allegations rajkuma...   \n",
       "\n",
       "                                       decoder_input  \\\n",
       "0  sostoken upgrad learner switches to career in ...   \n",
       "1  sostoken delhi techie wins free food from swig...   \n",
       "2  sostoken new zealand end rohit sharma led indi...   \n",
       "3  sostoken aegon life iterm insurance plan helps...   \n",
       "4  sostoken have known hirani for yrs what if met...   \n",
       "\n",
       "                                      decoder_target  \n",
       "0  upgrad learner switches to career in ml al wit...  \n",
       "1  delhi techie wins free food from swiggy for on...  \n",
       "2  new zealand end rohit sharma led india match w...  \n",
       "3  aegon life iterm insurance plan helps customer...  \n",
       "4  have known hirani for yrs what if metoo claims...  "
      ]
     },
     "execution_count": 23,
     "metadata": {},
     "output_type": "execute_result"
    }
   ],
   "source": [
    "# 요약 데이터에는 시작 토큰과 종료 토큰을 추가한다.\n",
    "data['decoder_input'] = data['headlines'].apply(lambda x : 'sostoken '+ x)\n",
    "data['decoder_target'] = data['headlines'].apply(lambda x : x + ' eostoken')\n",
    "data.head()"
   ]
  },
  {
   "cell_type": "code",
   "execution_count": 24,
   "id": "dd3edb12",
   "metadata": {},
   "outputs": [
    {
     "name": "stdout",
     "output_type": "stream",
     "text": [
      "=3\n"
     ]
    }
   ],
   "source": [
    "encoder_input = np.array(data['text']) # 인코더의 입력\n",
    "decoder_input = np.array(data['decoder_input']) # 디코더의 입력\n",
    "decoder_target = np.array(data['decoder_target']) # 디코더의 레이블\n",
    "print('=3')"
   ]
  },
  {
   "cell_type": "code",
   "execution_count": 25,
   "id": "5147ca16",
   "metadata": {},
   "outputs": [
    {
     "name": "stdout",
     "output_type": "stream",
     "text": [
      "[  791 75412 48000 ... 73897 41989 92916]\n"
     ]
    }
   ],
   "source": [
    "indices = np.arange(encoder_input.shape[0])\n",
    "np.random.shuffle(indices)\n",
    "print(indices)"
   ]
  },
  {
   "cell_type": "code",
   "execution_count": 26,
   "id": "5928abe1",
   "metadata": {},
   "outputs": [
    {
     "name": "stdout",
     "output_type": "stream",
     "text": [
      "=3\n"
     ]
    }
   ],
   "source": [
    "encoder_input = encoder_input[indices]\n",
    "decoder_input = decoder_input[indices]\n",
    "decoder_target = decoder_target[indices]\n",
    "print('=3')"
   ]
  },
  {
   "cell_type": "code",
   "execution_count": 27,
   "id": "9562db77",
   "metadata": {},
   "outputs": [
    {
     "name": "stdout",
     "output_type": "stream",
     "text": [
      "테스트 데이터의 수 : 19572\n"
     ]
    }
   ],
   "source": [
    "n_of_val = int(len(encoder_input)*0.2)\n",
    "print('테스트 데이터의 수 :', n_of_val)"
   ]
  },
  {
   "cell_type": "code",
   "execution_count": 28,
   "id": "eeda2adc",
   "metadata": {},
   "outputs": [
    {
     "name": "stdout",
     "output_type": "stream",
     "text": [
      "훈련 데이터의 개수 : 78291\n",
      "훈련 레이블의 개수 : 78291\n",
      "테스트 데이터의 개수 : 19572\n",
      "테스트 레이블의 개수 : 19572\n"
     ]
    }
   ],
   "source": [
    "encoder_input_train = encoder_input[:-n_of_val]\n",
    "decoder_input_train = decoder_input[:-n_of_val]\n",
    "decoder_target_train = decoder_target[:-n_of_val]\n",
    "\n",
    "encoder_input_test = encoder_input[-n_of_val:]\n",
    "decoder_input_test = decoder_input[-n_of_val:]\n",
    "decoder_target_test = decoder_target[-n_of_val:]\n",
    "\n",
    "print('훈련 데이터의 개수 :', len(encoder_input_train))\n",
    "print('훈련 레이블의 개수 :', len(decoder_input_train))\n",
    "print('테스트 데이터의 개수 :', len(encoder_input_test))\n",
    "print('테스트 레이블의 개수 :', len(decoder_input_test))"
   ]
  },
  {
   "cell_type": "markdown",
   "id": "6ca11acd",
   "metadata": {},
   "source": [
    "### 정수 인코딩"
   ]
  },
  {
   "cell_type": "code",
   "execution_count": 29,
   "id": "e8d484b2",
   "metadata": {},
   "outputs": [
    {
     "name": "stdout",
     "output_type": "stream",
     "text": [
      "=3\n"
     ]
    }
   ],
   "source": [
    "src_tokenizer = Tokenizer() # 토크나이저 정의\n",
    "src_tokenizer.fit_on_texts(encoder_input_train) # 입력된 데이터로부터 단어 집합 생성\n",
    "print('=3')"
   ]
  },
  {
   "cell_type": "code",
   "execution_count": 30,
   "id": "df60eb9d",
   "metadata": {},
   "outputs": [
    {
     "name": "stdout",
     "output_type": "stream",
     "text": [
      "단어 집합(vocabulary)의 크기 : 69327\n",
      "등장 빈도가 6번 이하인 희귀 단어의 수: 47293\n",
      "단어 집합에서 희귀 단어를 제외시킬 경우의 단어 집합의 크기 22034\n",
      "단어 집합에서 희귀 단어의 비율: 68.2172890792909\n",
      "전체 등장 빈도에서 희귀 단어 등장 빈도 비율: 3.4997116963147756\n"
     ]
    }
   ],
   "source": [
    "threshold = 7\n",
    "total_cnt = len(src_tokenizer.word_index) # 단어의 수\n",
    "rare_cnt = 0 # 등장 빈도수가 threshold보다 작은 단어의 개수를 카운트\n",
    "total_freq = 0 # 훈련 데이터의 전체 단어 빈도수 총 합\n",
    "rare_freq = 0 # 등장 빈도수가 threshold보다 작은 단어의 등장 빈도수의 총 합\n",
    "\n",
    "# 단어와 빈도수의 쌍(pair)을 key와 value로 받는다.\n",
    "for key, value in src_tokenizer.word_counts.items():\n",
    "    total_freq = total_freq + value\n",
    "\n",
    "    # 단어의 등장 빈도수가 threshold보다 작으면\n",
    "    if(value < threshold):\n",
    "        rare_cnt = rare_cnt + 1\n",
    "        rare_freq = rare_freq + value\n",
    "\n",
    "print('단어 집합(vocabulary)의 크기 :', total_cnt)\n",
    "print('등장 빈도가 %s번 이하인 희귀 단어의 수: %s'%(threshold - 1, rare_cnt))\n",
    "print('단어 집합에서 희귀 단어를 제외시킬 경우의 단어 집합의 크기 %s'%(total_cnt - rare_cnt))\n",
    "print(\"단어 집합에서 희귀 단어의 비율:\", (rare_cnt / total_cnt)*100)\n",
    "print(\"전체 등장 빈도에서 희귀 단어 등장 빈도 비율:\", (rare_freq / total_freq)*100)"
   ]
  },
  {
   "cell_type": "code",
   "execution_count": 31,
   "id": "0b413e46",
   "metadata": {},
   "outputs": [
    {
     "name": "stdout",
     "output_type": "stream",
     "text": [
      "=3\n"
     ]
    }
   ],
   "source": [
    "src_vocab = 22000\n",
    "src_tokenizer = Tokenizer(num_words=src_vocab) # 단어 집합의 크기를 22,000으로 제한\n",
    "src_tokenizer.fit_on_texts(encoder_input_train) # 단어 집합 재생성\n",
    "print('=3')"
   ]
  },
  {
   "cell_type": "code",
   "execution_count": 32,
   "id": "eb60c0b5",
   "metadata": {},
   "outputs": [
    {
     "name": "stdout",
     "output_type": "stream",
     "text": [
      "[[532, 132, 6035, 1361, 2318, 1255, 401, 863, 45, 14, 3647, 165, 47, 40, 35, 2790, 643, 15279, 63, 15894, 137, 1265, 3734, 12490, 532, 458, 50, 2639, 132, 1, 138, 1255, 532, 1095, 10444, 2639, 597, 3221], [14224, 3293, 15895, 378, 1643, 635, 7751, 4996, 25, 2688, 3080, 3708, 71, 183, 116, 2942, 15896, 3416, 1792, 32, 2984, 93, 144, 183, 351, 144, 1527, 324, 2665, 7751, 4996, 19, 17413], [2240, 1726, 3454, 1, 7641, 4954, 2139, 107, 3562, 8817, 601, 7642, 5520, 1508, 1308, 62, 30, 4954, 5266, 48, 2350, 75, 18, 32, 190, 160, 1747, 3, 398, 99, 4954, 474, 481, 1, 2350, 75, 1110, 4450, 18]]\n"
     ]
    }
   ],
   "source": [
    "# 텍스트 시퀀스를 정수 시퀀스로 변환\n",
    "encoder_input_train = src_tokenizer.texts_to_sequences(encoder_input_train) \n",
    "encoder_input_test = src_tokenizer.texts_to_sequences(encoder_input_test)\n",
    "\n",
    "# 잘 진행되었는지 샘플 출력\n",
    "print(encoder_input_train[:3])"
   ]
  },
  {
   "cell_type": "code",
   "execution_count": 33,
   "id": "54740e1d",
   "metadata": {},
   "outputs": [
    {
     "name": "stdout",
     "output_type": "stream",
     "text": [
      "=3\n"
     ]
    }
   ],
   "source": [
    "tar_tokenizer = Tokenizer()\n",
    "tar_tokenizer.fit_on_texts(decoder_input_train)\n",
    "print('=3')"
   ]
  },
  {
   "cell_type": "code",
   "execution_count": 34,
   "id": "2afdf85b",
   "metadata": {},
   "outputs": [
    {
     "name": "stdout",
     "output_type": "stream",
     "text": [
      "단어 집합(vocabulary)의 크기 : 29916\n",
      "등장 빈도가 5번 이하인 희귀 단어의 수: 19511\n",
      "단어 집합에서 희귀 단어를 제외시킬 경우의 단어 집합의 크기 10405\n",
      "단어 집합에서 희귀 단어의 비율: 65.21928065249365\n",
      "전체 등장 빈도에서 희귀 단어 등장 빈도 비율: 4.625056296456208\n"
     ]
    }
   ],
   "source": [
    "threshold = 6\n",
    "total_cnt = len(tar_tokenizer.word_index) # 단어의 수\n",
    "rare_cnt = 0 # 등장 빈도수가 threshold보다 작은 단어의 개수를 카운트\n",
    "total_freq = 0 # 훈련 데이터의 전체 단어 빈도수 총 합\n",
    "rare_freq = 0 # 등장 빈도수가 threshold보다 작은 단어의 등장 빈도수의 총 합\n",
    "\n",
    "# 단어와 빈도수의 쌍(pair)을 key와 value로 받는다.\n",
    "for key, value in tar_tokenizer.word_counts.items():\n",
    "    total_freq = total_freq + value\n",
    "\n",
    "    # 단어의 등장 빈도수가 threshold보다 작으면\n",
    "    if(value < threshold):\n",
    "        rare_cnt = rare_cnt + 1\n",
    "        rare_freq = rare_freq + value\n",
    "\n",
    "print('단어 집합(vocabulary)의 크기 :', total_cnt)\n",
    "print('등장 빈도가 %s번 이하인 희귀 단어의 수: %s'%(threshold - 1, rare_cnt))\n",
    "print('단어 집합에서 희귀 단어를 제외시킬 경우의 단어 집합의 크기 %s'%(total_cnt - rare_cnt))\n",
    "print(\"단어 집합에서 희귀 단어의 비율:\", (rare_cnt / total_cnt)*100)\n",
    "print(\"전체 등장 빈도에서 희귀 단어 등장 빈도 비율:\", (rare_freq / total_freq)*100)"
   ]
  },
  {
   "cell_type": "code",
   "execution_count": 35,
   "id": "4e2deccd",
   "metadata": {},
   "outputs": [
    {
     "name": "stdout",
     "output_type": "stream",
     "text": [
      "input\n",
      "input  [[1, 39, 9, 1406, 2798, 37, 7, 221, 213], [1, 686, 5, 3075, 635, 4353, 4354, 4, 805], [1, 2909, 207, 1985, 4099, 15, 52, 770, 3, 218, 2015], [1, 401, 945, 2035, 9, 285, 826, 48, 3, 6156], [1, 97, 3, 162, 158, 4, 4659, 5, 2185, 1625, 4, 13]]\n",
      "target\n",
      "decoder  [[39, 9, 1406, 2798, 37, 7, 221, 213, 2], [686, 5, 3075, 635, 4353, 4354, 4, 805, 2], [2909, 207, 1985, 4099, 15, 52, 770, 3, 218, 2015, 2], [401, 945, 2035, 9, 285, 826, 48, 3, 6156, 2], [97, 3, 162, 158, 4, 4659, 5, 2185, 1625, 4, 13, 2]]\n"
     ]
    }
   ],
   "source": [
    "tar_vocab = 10000\n",
    "tar_tokenizer = Tokenizer(num_words=tar_vocab) \n",
    "tar_tokenizer.fit_on_texts(decoder_input_train)\n",
    "tar_tokenizer.fit_on_texts(decoder_target_train)\n",
    "\n",
    "# 텍스트 시퀀스를 정수 시퀀스로 변환\n",
    "decoder_input_train = tar_tokenizer.texts_to_sequences(decoder_input_train) \n",
    "decoder_target_train = tar_tokenizer.texts_to_sequences(decoder_target_train)\n",
    "decoder_input_test = tar_tokenizer.texts_to_sequences(decoder_input_test)\n",
    "decoder_target_test = tar_tokenizer.texts_to_sequences(decoder_target_test)\n",
    "\n",
    "# 잘 변환되었는지 확인\n",
    "print('input')\n",
    "print('input ',decoder_input_train[:5])\n",
    "print('target')\n",
    "print('decoder ',decoder_target_train[:5])"
   ]
  },
  {
   "cell_type": "code",
   "execution_count": 36,
   "id": "24f90e58",
   "metadata": {},
   "outputs": [
    {
     "name": "stdout",
     "output_type": "stream",
     "text": [
      "삭제할 훈련 데이터의 개수 : 1\n",
      "삭제할 테스트 데이터의 개수 : 0\n",
      "훈련 데이터의 개수 : 78290\n",
      "훈련 레이블의 개수 : 78290\n",
      "테스트 데이터의 개수 : 19572\n",
      "테스트 레이블의 개수 : 19572\n"
     ]
    }
   ],
   "source": [
    "drop_train = [index for index, sentence in enumerate(decoder_input_train) if len(sentence) == 1]\n",
    "drop_test = [index for index, sentence in enumerate(decoder_input_test) if len(sentence) == 1]\n",
    "\n",
    "print('삭제할 훈련 데이터의 개수 :', len(drop_train))\n",
    "print('삭제할 테스트 데이터의 개수 :', len(drop_test))\n",
    "\n",
    "encoder_input_train = [sentence for index, sentence in enumerate(encoder_input_train) if index not in drop_train]\n",
    "decoder_input_train = [sentence for index, sentence in enumerate(decoder_input_train) if index not in drop_train]\n",
    "decoder_target_train = [sentence for index, sentence in enumerate(decoder_target_train) if index not in drop_train]\n",
    "\n",
    "encoder_input_test = [sentence for index, sentence in enumerate(encoder_input_test) if index not in drop_test]\n",
    "decoder_input_test = [sentence for index, sentence in enumerate(decoder_input_test) if index not in drop_test]\n",
    "decoder_target_test = [sentence for index, sentence in enumerate(decoder_target_test) if index not in drop_test]\n",
    "\n",
    "print('훈련 데이터의 개수 :', len(encoder_input_train))\n",
    "print('훈련 레이블의 개수 :', len(decoder_input_train))\n",
    "print('테스트 데이터의 개수 :', len(encoder_input_test))\n",
    "print('테스트 레이블의 개수 :', len(decoder_input_test))"
   ]
  },
  {
   "cell_type": "code",
   "execution_count": 37,
   "id": "f2c7a34a",
   "metadata": {},
   "outputs": [
    {
     "name": "stdout",
     "output_type": "stream",
     "text": [
      "=3\n"
     ]
    }
   ],
   "source": [
    "encoder_input_train = pad_sequences(encoder_input_train, maxlen=text_max_len, padding='post')\n",
    "encoder_input_test = pad_sequences(encoder_input_test, maxlen=text_max_len, padding='post')\n",
    "decoder_input_train = pad_sequences(decoder_input_train, maxlen=summary_max_len, padding='post')\n",
    "decoder_target_train = pad_sequences(decoder_target_train, maxlen=summary_max_len, padding='post')\n",
    "decoder_input_test = pad_sequences(decoder_input_test, maxlen=summary_max_len, padding='post')\n",
    "decoder_target_test = pad_sequences(decoder_target_test, maxlen=summary_max_len, padding='post')\n",
    "print('=3')"
   ]
  },
  {
   "cell_type": "markdown",
   "id": "623ced42",
   "metadata": {},
   "source": [
    "### 모델 설계"
   ]
  },
  {
   "cell_type": "code",
   "execution_count": 38,
   "id": "85ce97ba",
   "metadata": {},
   "outputs": [
    {
     "name": "stdout",
     "output_type": "stream",
     "text": [
      "WARNING:tensorflow:Layer lstm will not use cuDNN kernels since it doesn't meet the criteria. It will use a generic GPU kernel as fallback when running on GPU.\n",
      "WARNING:tensorflow:Layer lstm_1 will not use cuDNN kernels since it doesn't meet the criteria. It will use a generic GPU kernel as fallback when running on GPU.\n",
      "WARNING:tensorflow:Layer lstm_2 will not use cuDNN kernels since it doesn't meet the criteria. It will use a generic GPU kernel as fallback when running on GPU.\n"
     ]
    }
   ],
   "source": [
    "from tensorflow.keras.layers import Input, LSTM, Embedding, Dense, Concatenate, TimeDistributed\n",
    "from tensorflow.keras.models import Model\n",
    "from tensorflow.keras.callbacks import EarlyStopping, ModelCheckpoint\n",
    "\n",
    "\n",
    "# 인코더 설계 시작\n",
    "embedding_dim = 128\n",
    "hidden_size = 256\n",
    "\n",
    "# 인코더\n",
    "encoder_inputs = Input(shape=(text_max_len,))\n",
    "\n",
    "# 인코더의 임베딩 층\n",
    "enc_emb = Embedding(src_vocab, embedding_dim)(encoder_inputs)\n",
    "\n",
    "# 인코더의 LSTM 1\n",
    "encoder_lstm1 = LSTM(hidden_size, return_sequences=True, return_state=True ,dropout = 0.4, recurrent_dropout = 0.4)\n",
    "encoder_output1, state_h1, state_c1 = encoder_lstm1(enc_emb)\n",
    "\n",
    "# 인코더의 LSTM 2\n",
    "encoder_lstm2 = LSTM(hidden_size, return_sequences=True, return_state=True, dropout=0.4, recurrent_dropout=0.4)\n",
    "encoder_output2, state_h2, state_c2 = encoder_lstm2(encoder_output1)\n",
    "\n",
    "# 인코더의 LSTM 3\n",
    "encoder_lstm3 = LSTM(hidden_size, return_state=True, return_sequences=True, dropout=0.4, recurrent_dropout=0.4)\n",
    "encoder_outputs, state_h, state_c= encoder_lstm3(encoder_output2)"
   ]
  },
  {
   "cell_type": "code",
   "execution_count": 39,
   "id": "3fba1e5e",
   "metadata": {},
   "outputs": [
    {
     "name": "stdout",
     "output_type": "stream",
     "text": [
      "WARNING:tensorflow:Layer lstm_3 will not use cuDNN kernels since it doesn't meet the criteria. It will use a generic GPU kernel as fallback when running on GPU.\n"
     ]
    }
   ],
   "source": [
    "# 디코더 설계\n",
    "decoder_inputs = Input(shape=(None,))\n",
    "\n",
    "# 디코더의 임베딩 층\n",
    "dec_emb_layer = Embedding(tar_vocab, embedding_dim)\n",
    "dec_emb = dec_emb_layer(decoder_inputs)\n",
    "\n",
    "# 디코더의 LSTM\n",
    "decoder_lstm = LSTM(hidden_size, return_sequences=True, return_state=True, dropout=0.4, recurrent_dropout=0.2)\n",
    "decoder_outputs, _, _ = decoder_lstm(dec_emb, initial_state=[state_h, state_c])"
   ]
  },
  {
   "cell_type": "code",
   "execution_count": 40,
   "id": "6974d544",
   "metadata": {},
   "outputs": [
    {
     "name": "stdout",
     "output_type": "stream",
     "text": [
      "Model: \"model\"\n",
      "__________________________________________________________________________________________________\n",
      "Layer (type)                    Output Shape         Param #     Connected to                     \n",
      "==================================================================================================\n",
      "input_1 (InputLayer)            [(None, 45)]         0                                            \n",
      "__________________________________________________________________________________________________\n",
      "embedding (Embedding)           (None, 45, 128)      2816000     input_1[0][0]                    \n",
      "__________________________________________________________________________________________________\n",
      "lstm (LSTM)                     [(None, 45, 256), (N 394240      embedding[0][0]                  \n",
      "__________________________________________________________________________________________________\n",
      "input_2 (InputLayer)            [(None, None)]       0                                            \n",
      "__________________________________________________________________________________________________\n",
      "lstm_1 (LSTM)                   [(None, 45, 256), (N 525312      lstm[0][0]                       \n",
      "__________________________________________________________________________________________________\n",
      "embedding_1 (Embedding)         (None, None, 128)    1280000     input_2[0][0]                    \n",
      "__________________________________________________________________________________________________\n",
      "lstm_2 (LSTM)                   [(None, 45, 256), (N 525312      lstm_1[0][0]                     \n",
      "__________________________________________________________________________________________________\n",
      "lstm_3 (LSTM)                   [(None, None, 256),  394240      embedding_1[0][0]                \n",
      "                                                                 lstm_2[0][1]                     \n",
      "                                                                 lstm_2[0][2]                     \n",
      "__________________________________________________________________________________________________\n",
      "dense (Dense)                   (None, None, 10000)  2570000     lstm_3[0][0]                     \n",
      "==================================================================================================\n",
      "Total params: 8,505,104\n",
      "Trainable params: 8,505,104\n",
      "Non-trainable params: 0\n",
      "__________________________________________________________________________________________________\n"
     ]
    }
   ],
   "source": [
    "# 디코더의 출력층\n",
    "decoder_softmax_layer = Dense(tar_vocab, activation='softmax')\n",
    "decoder_softmax_outputs = decoder_softmax_layer(decoder_outputs) \n",
    "\n",
    "# 모델 정의\n",
    "model = Model([encoder_inputs, decoder_inputs], decoder_softmax_outputs)\n",
    "model.summary()"
   ]
  },
  {
   "cell_type": "markdown",
   "id": "262c802d",
   "metadata": {},
   "source": [
    "# 3. 어텐션 메커니즘 사용하기 (추상적 요약)"
   ]
  },
  {
   "cell_type": "code",
   "execution_count": 41,
   "id": "3f1f1733",
   "metadata": {},
   "outputs": [
    {
     "name": "stdout",
     "output_type": "stream",
     "text": [
      "Model: \"model_1\"\n",
      "__________________________________________________________________________________________________\n",
      "Layer (type)                    Output Shape         Param #     Connected to                     \n",
      "==================================================================================================\n",
      "input_1 (InputLayer)            [(None, 45)]         0                                            \n",
      "__________________________________________________________________________________________________\n",
      "embedding (Embedding)           (None, 45, 128)      2816000     input_1[0][0]                    \n",
      "__________________________________________________________________________________________________\n",
      "lstm (LSTM)                     [(None, 45, 256), (N 394240      embedding[0][0]                  \n",
      "__________________________________________________________________________________________________\n",
      "input_2 (InputLayer)            [(None, None)]       0                                            \n",
      "__________________________________________________________________________________________________\n",
      "lstm_1 (LSTM)                   [(None, 45, 256), (N 525312      lstm[0][0]                       \n",
      "__________________________________________________________________________________________________\n",
      "embedding_1 (Embedding)         (None, None, 128)    1280000     input_2[0][0]                    \n",
      "__________________________________________________________________________________________________\n",
      "lstm_2 (LSTM)                   [(None, 45, 256), (N 525312      lstm_1[0][0]                     \n",
      "__________________________________________________________________________________________________\n",
      "lstm_3 (LSTM)                   [(None, None, 256),  394240      embedding_1[0][0]                \n",
      "                                                                 lstm_2[0][1]                     \n",
      "                                                                 lstm_2[0][2]                     \n",
      "__________________________________________________________________________________________________\n",
      "attention_layer (AdditiveAttent (None, None, 256)    256         lstm_3[0][0]                     \n",
      "                                                                 lstm_2[0][0]                     \n",
      "__________________________________________________________________________________________________\n",
      "concat_layer (Concatenate)      (None, None, 512)    0           lstm_3[0][0]                     \n",
      "                                                                 attention_layer[0][0]            \n",
      "__________________________________________________________________________________________________\n",
      "dense_1 (Dense)                 (None, None, 10000)  5130000     concat_layer[0][0]               \n",
      "==================================================================================================\n",
      "Total params: 11,065,360\n",
      "Trainable params: 11,065,360\n",
      "Non-trainable params: 0\n",
      "__________________________________________________________________________________________________\n"
     ]
    }
   ],
   "source": [
    "from tensorflow.keras.layers import AdditiveAttention\n",
    "\n",
    "# 어텐션 층(어텐션 함수)\n",
    "attn_layer = AdditiveAttention(name='attention_layer')\n",
    "\n",
    "# 인코더와 디코더의 모든 time step의 hidden state를 어텐션 층에 전달하고 결과를 리턴\n",
    "attn_out = attn_layer([decoder_outputs, encoder_outputs])\n",
    "\n",
    "\n",
    "# 어텐션의 결과와 디코더의 hidden state들을 연결\n",
    "decoder_concat_input = Concatenate(axis=-1, name='concat_layer')([decoder_outputs, attn_out])\n",
    "\n",
    "# 디코더의 출력층\n",
    "decoder_softmax_layer = Dense(tar_vocab, activation='softmax')\n",
    "decoder_softmax_outputs = decoder_softmax_layer(decoder_concat_input)\n",
    "\n",
    "# 모델 정의\n",
    "model = Model([encoder_inputs, decoder_inputs], decoder_softmax_outputs)\n",
    "model.summary()# 3. 어텐션 메커니즘 사용하기 (추상적 요약)"
   ]
  },
  {
   "cell_type": "markdown",
   "id": "2a9352a5",
   "metadata": {},
   "source": [
    "### train/test"
   ]
  },
  {
   "cell_type": "code",
   "execution_count": 92,
   "id": "f46e8e0e",
   "metadata": {},
   "outputs": [
    {
     "name": "stdout",
     "output_type": "stream",
     "text": [
      "Epoch 1/30\n",
      "306/306 [==============================] - 208s 653ms/step - loss: 3.3058 - val_loss: 3.5175\n",
      "Epoch 2/30\n",
      "306/306 [==============================] - 196s 640ms/step - loss: 3.2020 - val_loss: 3.4813\n",
      "Epoch 3/30\n",
      "306/306 [==============================] - 194s 633ms/step - loss: 3.1265 - val_loss: 3.4493\n",
      "Epoch 4/30\n",
      "306/306 [==============================] - 196s 642ms/step - loss: 3.0637 - val_loss: 3.4298\n",
      "Epoch 5/30\n",
      "306/306 [==============================] - 194s 634ms/step - loss: 3.0082 - val_loss: 3.4078\n",
      "Epoch 6/30\n",
      "306/306 [==============================] - 192s 628ms/step - loss: 2.9556 - val_loss: 3.3951\n",
      "Epoch 7/30\n",
      "306/306 [==============================] - 191s 625ms/step - loss: 2.9059 - val_loss: 3.3831\n",
      "Epoch 8/30\n",
      "306/306 [==============================] - 191s 623ms/step - loss: 2.8576 - val_loss: 3.3671\n",
      "Epoch 9/30\n",
      "306/306 [==============================] - 192s 626ms/step - loss: 2.8143 - val_loss: 3.3532\n",
      "Epoch 10/30\n",
      "306/306 [==============================] - 192s 629ms/step - loss: 2.7745 - val_loss: 3.3481\n",
      "Epoch 11/30\n",
      "306/306 [==============================] - 192s 627ms/step - loss: 2.7356 - val_loss: 3.3383\n",
      "Epoch 12/30\n",
      "306/306 [==============================] - 190s 622ms/step - loss: 2.7014 - val_loss: 3.3377\n",
      "Epoch 13/30\n",
      "306/306 [==============================] - 190s 621ms/step - loss: 2.6673 - val_loss: 3.3340\n",
      "Epoch 14/30\n",
      "306/306 [==============================] - 190s 622ms/step - loss: 2.6358 - val_loss: 3.3268\n",
      "Epoch 15/30\n",
      "306/306 [==============================] - 190s 622ms/step - loss: 2.6092 - val_loss: 3.3279\n",
      "Epoch 16/30\n",
      "306/306 [==============================] - 190s 622ms/step - loss: 2.5793 - val_loss: 3.3214\n",
      "Epoch 17/30\n",
      "306/306 [==============================] - 189s 618ms/step - loss: 2.5525 - val_loss: 3.3154\n",
      "Epoch 18/30\n",
      "306/306 [==============================] - 189s 618ms/step - loss: 2.5291 - val_loss: 3.3151\n",
      "Epoch 19/30\n",
      "306/306 [==============================] - 189s 616ms/step - loss: 2.5034 - val_loss: 3.3138\n",
      "Epoch 20/30\n",
      "306/306 [==============================] - 189s 618ms/step - loss: 2.4800 - val_loss: 3.3073\n",
      "Epoch 21/30\n",
      "306/306 [==============================] - 189s 617ms/step - loss: 2.4580 - val_loss: 3.3104\n",
      "Epoch 22/30\n",
      "306/306 [==============================] - 188s 615ms/step - loss: 2.4356 - val_loss: 3.3083\n",
      "Epoch 00022: early stopping\n"
     ]
    }
   ],
   "source": [
    "model.compile(optimizer='rmsprop', loss='sparse_categorical_crossentropy')\n",
    "es = EarlyStopping(monitor='val_loss', patience=2, verbose=1)\n",
    "history = model.fit(x=[encoder_input_train, decoder_input_train], y=decoder_target_train, \\\n",
    "          validation_data=([encoder_input_test, decoder_input_test], decoder_target_test), \\\n",
    "          batch_size=256, callbacks=[es], epochs=30)"
   ]
  },
  {
   "cell_type": "code",
   "execution_count": 43,
   "id": "6f8ea926",
   "metadata": {},
   "outputs": [
    {
     "data": {
      "image/png": "[encoded data removed]",
      "text/plain": [
       "<Figure size 432x288 with 1 Axes>"
      ]
     },
     "metadata": {
      "needs_background": "light"
     },
     "output_type": "display_data"
    }
   ],
   "source": [
    "plt.plot(history.history['loss'], label='train')\n",
    "plt.plot(history.history['val_loss'], label='test')\n",
    "plt.legend()\n",
    "plt.show()"
   ]
  },
  {
   "cell_type": "code",
   "execution_count": 44,
   "id": "a7355ced",
   "metadata": {},
   "outputs": [
    {
     "name": "stdout",
     "output_type": "stream",
     "text": [
      "=3\n"
     ]
    }
   ],
   "source": [
    "src_index_to_word = src_tokenizer.index_word # 원문 단어 집합에서 정수 -> 단어를 얻음\n",
    "tar_word_to_index = tar_tokenizer.word_index # 요약 단어 집합에서 단어 -> 정수를 얻음\n",
    "tar_index_to_word = tar_tokenizer.index_word # 요약 단어 집합에서 정수 -> 단어를 얻음\n",
    "\n",
    "print('=3')"
   ]
  },
  {
   "cell_type": "code",
   "execution_count": 45,
   "id": "c4286d0c",
   "metadata": {},
   "outputs": [
    {
     "name": "stdout",
     "output_type": "stream",
     "text": [
      "=3\n"
     ]
    }
   ],
   "source": [
    "# 인코더 설계\n",
    "encoder_model = Model(inputs=encoder_inputs, outputs=[encoder_outputs, state_h, state_c])\n",
    "\n",
    "# 이전 시점의 상태들을 저장하는 텐서\n",
    "decoder_state_input_h = Input(shape=(hidden_size,))\n",
    "decoder_state_input_c = Input(shape=(hidden_size,))\n",
    "\n",
    "dec_emb2 = dec_emb_layer(decoder_inputs)\n",
    "\n",
    "# 문장의 다음 단어를 예측하기 위해서 초기 상태(initial_state)를 이전 시점의 상태로 사용. 이는 뒤의 함수 decode_sequence()에 구현\n",
    "# 훈련 과정에서와 달리 LSTM의 리턴하는 은닉 상태와 셀 상태인 state_h와 state_c를 버리지 않음.\n",
    "decoder_outputs2, state_h2, state_c2 = decoder_lstm(dec_emb2, initial_state=[decoder_state_input_h, decoder_state_input_c])\n",
    "\n",
    "print('=3')"
   ]
  },
  {
   "cell_type": "code",
   "execution_count": 46,
   "id": "1657f9bb",
   "metadata": {},
   "outputs": [
    {
     "name": "stdout",
     "output_type": "stream",
     "text": [
      "=3\n"
     ]
    }
   ],
   "source": [
    "# 어텐션 함수\n",
    "decoder_hidden_state_input = Input(shape=(text_max_len, hidden_size))\n",
    "attn_out_inf = attn_layer([decoder_outputs2, decoder_hidden_state_input])\n",
    "decoder_inf_concat = Concatenate(axis=-1, name='concat')([decoder_outputs2, attn_out_inf])\n",
    "\n",
    "# 디코더의 출력층\n",
    "decoder_outputs2 = decoder_softmax_layer(decoder_inf_concat) \n",
    "\n",
    "# 최종 디코더 모델\n",
    "decoder_model = Model(\n",
    "    [decoder_inputs] + [decoder_hidden_state_input,decoder_state_input_h, decoder_state_input_c],\n",
    "    [decoder_outputs2] + [state_h2, state_c2])\n",
    "\n",
    "print('=3')"
   ]
  },
  {
   "cell_type": "code",
   "execution_count": 47,
   "id": "f927d187",
   "metadata": {},
   "outputs": [
    {
     "name": "stdout",
     "output_type": "stream",
     "text": [
      "=3\n"
     ]
    }
   ],
   "source": [
    "def decode_sequence(input_seq):\n",
    "    # 입력으로부터 인코더의 상태를 얻음\n",
    "    e_out, e_h, e_c = encoder_model.predict(input_seq)\n",
    "\n",
    "     # <SOS>에 해당하는 토큰 생성\n",
    "    target_seq = np.zeros((1,1))\n",
    "    target_seq[0, 0] = tar_word_to_index['sostoken']\n",
    "\n",
    "    stop_condition = False\n",
    "    decoded_sentence = ''\n",
    "    while not stop_condition: # stop_condition이 True가 될 때까지 루프 반복\n",
    "\n",
    "        output_tokens, h, c = decoder_model.predict([target_seq] + [e_out, e_h, e_c])\n",
    "        sampled_token_index = np.argmax(output_tokens[0, -1, :])\n",
    "        sampled_token = tar_index_to_word[sampled_token_index]\n",
    "\n",
    "        if (sampled_token!='eostoken'):\n",
    "            decoded_sentence += ' '+sampled_token\n",
    "\n",
    "        #  <eos>에 도달하거나 최대 길이를 넘으면 중단.\n",
    "        if (sampled_token == 'eostoken'  or len(decoded_sentence.split()) >= (summary_max_len-1)):\n",
    "            stop_condition = True\n",
    "\n",
    "        # 길이가 1인 타겟 시퀀스를 업데이트\n",
    "        target_seq = np.zeros((1,1))\n",
    "        target_seq[0, 0] = sampled_token_index\n",
    "\n",
    "        # 상태를 업데이트 합니다.\n",
    "        e_h, e_c = h, c\n",
    "\n",
    "    return decoded_sentence\n",
    "print('=3')"
   ]
  },
  {
   "cell_type": "code",
   "execution_count": 48,
   "id": "e2eee6de",
   "metadata": {},
   "outputs": [
    {
     "name": "stdout",
     "output_type": "stream",
     "text": [
      "=3\n"
     ]
    }
   ],
   "source": [
    "# 원문의 정수 시퀀스를 텍스트 시퀀스로 변환\n",
    "def seq2text(input_seq):\n",
    "    temp=''\n",
    "    for i in input_seq:\n",
    "        if (i!=0):\n",
    "            temp = temp + src_index_to_word[i]+' '\n",
    "    return temp\n",
    "\n",
    "# 요약문의 정수 시퀀스를 텍스트 시퀀스로 변환\n",
    "def seq2summary(input_seq):\n",
    "    temp=''\n",
    "    for i in input_seq:\n",
    "        if ((i!=0 and i!=tar_word_to_index['sostoken']) and i!=tar_word_to_index['eostoken']):\n",
    "            temp = temp + tar_index_to_word[i] + ' '\n",
    "    return temp\n",
    "\n",
    "print('=3')"
   ]
  },
  {
   "cell_type": "markdown",
   "id": "d24aafe1",
   "metadata": {},
   "source": [
    "# 4. 실제 결과와 요약문 비교하기 (추상적 요약)"
   ]
  },
  {
   "cell_type": "code",
   "execution_count": 49,
   "id": "2e4643fb",
   "metadata": {},
   "outputs": [
    {
     "name": "stdout",
     "output_type": "stream",
     "text": [
      "원문 : bengaluru based lending company capital float tuesday announced acquisition pune based personal financial management app million member team absorbed capital float founders amit patanjali joining senior management investors sequoia capital saif partners also members capital float board \n",
      "실제 요약 : capital float acquires personal finance app for mn \n",
      "예측 요약 :  bengaluru based startup raises crore\n",
      "\n",
      "\n",
      "원문 : days teacher killed way school delhi police arrested husband model girlfriend angel gupta allegedly getting killed opposing extramarital relationship police said recovered teacher personal diary mentioned details husband affair angel father also arrested alleged involvement \n",
      "실제 요약 : delhi teacher shot dead on way to school husband girlfriend held \n",
      "예측 요약 :  man kills self in delhi for refusing to girlfriend\n",
      "\n",
      "\n",
      "원문 : video texas man playing piano water logged house hurricane harvey surfaced online decided take moment play take said storm killed people texas forced people shelters since made landfall last week \n",
      "실제 요약 : video us man plays piano in his flooded home \n",
      "예측 요약 :  video shows man who killed in video of his video\n",
      "\n",
      "\n",
      "원문 : tata trusts requested national company law tribunal consider allowing tata sons buy mistry firms stake company would best interest tata sons consider buyout said mistry family firms claimed tata sons minority shareholders cyrus mistry ouster tata sons chairman \n",
      "실제 요약 : trusts urge tribunal to let tata sons buy out mistry stake \n",
      "예측 요약 :  tata steel to tata steel firms with tata steel\n",
      "\n",
      "\n",
      "원문 : man arrested reportedly made call threatening blast jaipur pm narendra modi conducting public rally saturday rajasthan cm vasundhara raje officer special duty said got call man claimed planted bomb accused apparently mentally disturbed \n",
      "실제 요약 : bomb threat at pm modi jaipur rally one held \n",
      "예측 요약 :  man arrested for pm modi for pm modi in delhi\n",
      "\n",
      "\n",
      "원문 : nigeria military monday released people clearing ties islamist militant group boko haram according reports military arrested thousands fight boko haram insurgency aims create islamic caliphate nigeria insurgency killed people forced lakh flee homes \n",
      "실제 요약 : nigerian military releases cleared boko haram suspects \n",
      "예측 요약 :  killed in pakistan in pakistan\n",
      "\n",
      "\n",
      "원문 : actor samir soni set play role principal upcoming film student year rishi kapoor earlier portrayed character principal first film talking character samir said normal boring principal make laugh smile fun element \n",
      "실제 요약 : soni to play principal in student of the year \n",
      "예측 요약 :  actor to play in film on his debut film reports\n",
      "\n",
      "\n",
      "원문 : fortune foods apologised said partially withdraw durga puja themed ad showing consumption non vegetarian food several people claimed religious sentiments hurt consume non vegetarian food navaratri withdraw video circulation west bengal common practice eat veg non veg food fortune foods said \n",
      "실제 요약 : fortune foods apologises for ad hurting religious sentiments \n",
      "예측 요약 :  bill gates bans muslim university for muslim university\n",
      "\n",
      "\n",
      "원문 : month old girl dead body pulled open hours rescue operation toddler playing elder sister accidentally fell nearly foot deep open village near hyderabad thursday police called rescue operation sunday remains retrieved \n",
      "실제 요약 : toddler dead body pulled out from after hrs \n",
      "예측 요약 :  baby dies after falling on falling in hours\n",
      "\n",
      "\n",
      "원문 : external affairs minister sushma swaraj friday said pm everyone bank account today bjp came power one third population bank accounts added hailed decision give reservation economically weaker sections general category calling revolutionary decision \n",
      "실제 요약 : everyone has bank account today because of pm modi swaraj \n",
      "예측 요약 :  will not be able to india rafale deal with india\n",
      "\n",
      "\n",
      "원문 : indonesian court sentenced eight workers two visitors gay club three years prison anti pornography charges around men detained club may raid authorities described sex party however detainees later released homosexuality legal indonesia nn \n",
      "실제 요약 : indonesia sentences gay club workers to up to yrs in jail \n",
      "예측 요약 :  man jailed for yrs jail for raping year old in jail\n",
      "\n",
      "\n",
      "원문 : us based developer developed smart jewellery alerts friends police case emergency double pressing accessory priced device shares user location fed companion app battery life designed last one year also features bluetooth connectivity feet away user smartphone \n",
      "실제 요약 : smart jewellery alerts friends police during an emergency \n",
      "예측 요약 :  app develops app to detect app for phone\n",
      "\n",
      "\n",
      "원문 : series female formula one like driving competition encourage female drivers towards formula one racing start next year history formula one racing drivers competed since championship began two female drivers last official female driver formula one appearance \n",
      "실제 요약 : all female formula one like competition to start next year \n",
      "예측 요약 :  uber gets its first ever car in the car\n",
      "\n",
      "\n",
      "원문 : rajasthan government sunday transferred thirty indian police service officers state biju george joseph inspector general police ajmer transferred jodhpur commissioner vishal bansal ig udaipur shifted cid inspector general jodhpur range ig kumar ajmer ig according state orders \n",
      "실제 요약 : ips officers transferred in rajasthan \n",
      "예측 요약 :  police to give up to police to police\n",
      "\n",
      "\n",
      "원문 : facebook said send fewer notifications friends joining messenger users enjoy getting facebook sends alerts read connected messenger user becomes friend another friend joins messenger facebook employ machine learning analyse users like feature \n",
      "실제 요약 : fb to send fewer you are now connected on messenger alerts \n",
      "예측 요약 :  facebook to let users share news on facebook\n",
      "\n",
      "\n",
      "원문 : delhi headquartered learning platform raised million online classifieds company info edge new round funding also increase info edge stake founded chauhan ritesh delivers online study content assessment modules school students kindergarten class th \n",
      "실제 요약 : learning platform raises million \n",
      "예측 요약 :  bengaluru based startup raises crore\n",
      "\n",
      "\n",
      "원문 : graham prior coach south africa squash team died collapsing road due heart attack team world junior squash championship play match singapore chennai year old way along players board team bus heading back hotel collapsed \n",
      "실제 요약 : sa squash coach dies after on road in chennai \n",
      "예측 요약 :  player who shot dead in crash after crash crash\n",
      "\n",
      "\n",
      "원문 : former chhattisgarh chief minister raman singh tuesday took dig congress party saying party made fake promises elections win votes added widow pension unemployment allowance promises conspiracy getting votes said congress made tall promises left aside \n",
      "실제 요약 : cong made fake promises during polls for votes raman singh \n",
      "예측 요약 :  will not contest polls if they are not vote chhattisgarh cm\n",
      "\n",
      "\n",
      "원문 : day urjit patel resigned rbi governor niti aayog vice chairman rajiv kumar said rbi dependent particular individual rbi institutional capabilities strong whatever required markets economy kumar added also said patel done amazing work governor \n",
      "실제 요약 : rbi not on one person niti aayog vc after patel exit \n",
      "예측 요약 :  rbi governor appointed as rbi governor\n",
      "\n",
      "\n",
      "원문 : following field field controversy sri lanka bangladesh trophy former sri lankan captain sanath jayasuriya termed visiting bangladeshi team behaviour rd class tweet deleting alongside caption jayasuriya attached photographs broken glass door outside visiting team dressing room stadium colombo \n",
      "실제 요약 : jayasuriya deletes tweet desh conduct rd class \n",
      "예측 요약 :  sl captain sl captain sl team gets out of sl\n",
      "\n",
      "\n",
      "원문 : indian navy indian air force indian coast guard successfully rescued fishermen affected cyclone ockhi union defence minister nirmala sitharaman said thursday rescued also include five sri lankan fishermen added cyclone struck tamil nadu kerala maharashtra gujarat killed around people displaced hundreds others \n",
      "실제 요약 : cyclone affected fishermen rescued defence minister \n",
      "예측 요약 :  iaf iaf iaf officer to iaf iaf officer in iaf\n",
      "\n",
      "\n",
      "원문 : pune based firm consulting group claimed new algorithm predict startup success uses artificial intelligence psychological analysis predict success individual team levels startups successful due human factors failures primarily ignoring factors said firm managing partner \n",
      "실제 요약 : pune firm claims its ai can predict startup success \n",
      "예측 요약 :  ai startup raises million in\n",
      "\n",
      "\n",
      "원문 : jharkhand government directed government private doctors ensure written clear capital letters directives based notification medical council india violation directives would lead warning first time suspension certain period second cancellation registration third \n",
      "실제 요약 : write in capital letters khand warns doctors \n",
      "예측 요약 :  govt to introduce schools for medical education\n",
      "\n",
      "\n",
      "원문 : bse benchmark index sensex plunged points close monday marking first time closed mark last three weeks nse benchmark index nifty declined points settle fall benchmark indices come amid concerns us china trade war falling rupee \n",
      "실제 요약 : sensex falls points to close below after weeks \n",
      "예측 요약 :  sensex closes above for first time in years\n",
      "\n",
      "\n",
      "원문 : landslides triggered heavy monsoon rains bangladesh killed people including several army men officials said tuesday majority deaths reported remote hill district close indian border country district worst affected landslides accounting nearly deaths \n",
      "실제 요약 : death toll from bangladesh landslides rises to \n",
      "예측 요약 :  death toll in indonesia earthquake rises to\n",
      "\n",
      "\n",
      "원문 : wake billion fraud surfaced punjab national bank week reserve bank india said take appropriate supervisory action added supervisory assessment control systems pnb already undertaken rbi however denied reports pnb asked assume liabilities arising fraud \n",
      "실제 요약 : rbi to take action against fraud hit pnb \n",
      "예측 요약 :  pnb fraud in pnb scam since pnb fraud\n",
      "\n",
      "\n",
      "원문 : anamika first contestant win crore ninth season kaun banega crorepati said show host amitabh bachchan advised use money take decision want wait excitement take right step added anamika social worker jharkhand \n",
      "실제 요약 : big advised me to use the money kbc winner \n",
      "예측 요약 :  anand wins cr on his first time in india\n",
      "\n",
      "\n",
      "원문 : supreme court today upheld death penalty convicts nirbhaya gangrape case hearing review petition seeking reduction sentence death penalty awarded four six convicts fifth juvenile sent correction home sixth committed suicide inside tihar central jail \n",
      "실제 요약 : nirbhaya rapists to be hanged sc rejects plea for life term \n",
      "예측 요약 :  sc upholds death penalty for death penalty on nirbhaya death\n",
      "\n",
      "\n",
      "원문 : japanese authorities launched murder investigation bodies six people including five members family discovered farmhouse japanese town body seventh person retrieved river three kilometres away victims stabbed local media reports suggested \n",
      "실제 요약 : people found dead in mass killing at japanese farmhouse \n",
      "예측 요약 :  uk police to death for killing\n",
      "\n",
      "\n",
      "원문 : punjab sports minister rana gurmeet singh sodhi thursday said punjab behind haryana sports due drug menace prevalent across state blaming previous bjp sad government curbing problem sodhi said drugs sports youth embrace drugs join sports \n",
      "실제 요약 : punjab behind yana in sports due to drug minister \n",
      "예측 요약 :  punjab cm singh singh singh resigns in punjab\n",
      "\n",
      "\n",
      "원문 : year old youth uttar pradesh detained allegedly making threat calls blow us miami airport come ak grenade suicide belt kill everyone accused said call man took step cheated bitcoins worth get desired response fbi \n",
      "실제 요약 : yr old in up cheated of bitcoins threatens to blow up us airport \n",
      "예측 요약 :  man who killed in front of man who killed in delhi\n",
      "\n",
      "\n",
      "원문 : team india captain virat kohli criticised social media wearing shorts toss ahead india warm match cricket australia xi disgraceful disrespectful time captains used wear toss behaviour absolutely user tweeted kohli bad attitude showing respect game legacy wrote another \n",
      "실제 요약 : kohli criticised for wearing shorts at toss for warm up match \n",
      "예측 요약 :  kohli trolled for calling india team for india\n",
      "\n",
      "\n",
      "원문 : responding rti application defence home affairs ministries said terms like martyr shaheed exist instead defence ministry uses battle casualty home affairs ministry uses term operations casualty soldiers policemen killed action applicant seeking detailed definition shaheed \n",
      "실제 요약 : no term like martyr in army defence ministry \n",
      "예측 요약 :  govt to give to ban on rohingyas\n",
      "\n",
      "\n",
      "원문 : china based bike sharing startup founded acquired meituan dianping china largest provider demand online services reported amount billion raised billion date continue independent brand management team remaining place meituan dianping said statement \n",
      "실제 요약 : yr old chinese startup with bn funding sold for bn \n",
      "예측 요약 :  softbank raises mn in china\n",
      "\n",
      "\n",
      "원문 : australia first test sri lanka australian pacer pat cummins took ten wicket haul first wicket match haul best ever match figures bowler day night tests match ended australia winning innings runs lasted three days cummins named man match \n",
      "실제 요약 : aus win as cummins registers best figures in day night test \n",
      "예측 요약 :  yr old becomes st ever to take runs in balls\n",
      "\n",
      "\n",
      "원문 : woman west bengal allegedly gangraped front husband son two men danced wedding party men broke house function held knife son throat tied husband accused raped refused physical relationship \n",
      "실제 요약 : wb woman gangraped by men she with at wedding party \n",
      "예측 요약 :  woman daughter daughter with her daughter in up\n",
      "\n",
      "\n",
      "원문 : bahrain sheikh sued businessman crore allegedly abandoning deal meet bollywood celebrities meeting srk salman khan ranbir kapoor aditya roy kapur businessman claimed sheikh hamad ali al khalifa bahrain king cousin agreed meet actors broke exclusive deal \n",
      "실제 요약 : sheikh sued for cr on breaking deal to meet wood stars \n",
      "예측 요약 :  aamir khan shares crore from his bank reports\n",
      "\n",
      "\n",
      "원문 : lionel messi two goals one assist helped barcelona defeat chelsea enter champions league quarterfinals messi became second player cristiano ronaldo reach champions league goals taking games less ronaldo feat elsewhere bayern munich thrashed besiktas aggregate enter seventh straight quarters \n",
      "실제 요약 : messi goals take barcelona into champions league last \n",
      "예측 요약 :  real madrid beat real madrid to win la liga in real madrid\n",
      "\n",
      "\n",
      "원문 : england came back two goals defeat four time finalists spain win maiden fifa world cup title kolkata saturday england forward scored hat trick quarterfinal semifinal ended tournament top scorer eight goals first ever fifa tournament held india \n",
      "실제 요약 : england beat spain to win their st fifa world cup \n",
      "예측 요약 :  croatia lose out of world cup as world cup\n",
      "\n",
      "\n",
      "원문 : india successfully test fired surface surface intermediate range ballistic missile agni iii defence test facility odisha coast thursday according reports indigenously built highly sophisticated missile mobile launcher launching complex iv integrated test range abdul kalam island \n",
      "실제 요약 : india successfully test fires agni iii ballistic missile \n",
      "예측 요약 :  india successfully test missile capable of\n",
      "\n",
      "\n",
      "원문 : farmers gathering gujarat former union minister yashwant sinha wednesday said everyone suffering farmers youth women dalits want forgive next polls added want apologise also part bjp promises made ahead general elections \n",
      "실제 요약 : don forgive pm in ls polls yashwant sinha to farmers \n",
      "예측 요약 :  goa cm parrikar to be in maharashtra\n",
      "\n",
      "\n",
      "원문 : supreme court agreed examine whether former presidents prime ministers entitled government bungalows leaving office petition filed court argued public property away private citizens regardless high offices may previously occupied provision constitution added \n",
      "실제 요약 : sc to review if ex presidents should get govt houses \n",
      "예측 요약 :  sc judge to be declared by sc judge\n",
      "\n",
      "\n",
      "원문 : year old thai boxer died succumbing injuries sustained charity fight reportedly suffered brain repeatedly hit head opponent following tragedy uncle said would like see authorities make use protective gear compulsory fighters aged \n",
      "실제 요약 : yr old dies after head injuries in thai boxing match \n",
      "예측 요약 :  dies after falling while taking selfie from cave\n",
      "\n",
      "\n",
      "원문 : airtel urged delhi hc dismiss lawsuit filed reliance jio advertisements offering live free access ipl coverage jio alleged ads suggested subscribers could live stream ipl matches free without mentioning would incur data charges airtel assured court ads would carry disclaimer jio complaint \n",
      "실제 요약 : airtel urges hc to dismiss jio plea against its ipl ads \n",
      "예측 요약 :  airtel sues jio for aadhaar data breach\n",
      "\n",
      "\n",
      "원문 : china defence giant first time showcased new aerial bomb said china largest non nuclear weapon per state run media local media called chinese version us massive ordnance air blast often dubbed mother bombs chinese bomb reportedly smaller lighter us counterpart \n",
      "실제 요약 : after us china unveils its own mother of all bombs report \n",
      "예측 요약 :  china launches its first ever missile\n",
      "\n",
      "\n",
      "원문 : us retail giant walmart reportedly assured income tax department fulfil tax obligations proposed acquisition flipkart however walmart yet approached tax department consultation regard tax liability may walmart agreed acquire stake flipkart valuing commerce company billion \n",
      "실제 요약 : will flipkart deal tax walmart to \n",
      "예측 요약 :  flipkart to buy tax tax in flipkart deal for cr\n",
      "\n",
      "\n",
      "원문 : mahindra group chairman anand mahindra tweeted admitting wardrobe failure meeting canadian pm justin trudeau daughters would chosen colourful socks occasion tweeted trudeau visited india meeting government business leaders strengthening close friendship two nations \n",
      "실제 요약 : mahindra admits failure while meeting canada pm \n",
      "예측 요약 :  anand mahindra shares pic with his daughter\n",
      "\n",
      "\n",
      "원문 : massive ransomware cyber attack targeted computers countries including india friday attacks detected far cyber security firms kaspersky confirmed russia worst hit country witnessing affected computers india third list ransomware dubbed wannacry reportedly demanded payment bitcoin \n",
      "실제 요약 : hackers attack computers in countries including india \n",
      "예측 요약 :  us to use internet to curb internet in us\n",
      "\n",
      "\n",
      "원문 : two class girls school madhya pradesh damoh allegedly made strip teacher classmate complained losing victims claimed teacher earlier checked bags threatened admit theft show cause notice issued school principal district education officer \n",
      "실제 요약 : class girls strip searched over theft of in mp \n",
      "예측 요약 :  teacher who teacher teacher found in school\n",
      "\n",
      "\n",
      "원문 : siege iranian parliament ended four attackers killed reports said gunmen dressed women entered iran parliament building wednesday morning took hostages separate attack suicide bombers struck shrine iran capital tehran least people killed others injured attacks claimed isis \n",
      "실제 요약 : iran parliament ends all four attackers killed \n",
      "예측 요약 :  iran to give isis to death in saudi arabia\n",
      "\n",
      "\n"
     ]
    }
   ],
   "source": [
    "for i in range(50, 100):\n",
    "    print(\"원문 :\", seq2text(encoder_input_test[i]))\n",
    "    print(\"실제 요약 :\", seq2summary(decoder_input_test[i]))\n",
    "    print(\"예측 요약 :\", decode_sequence(encoder_input_test[i].reshape(1, text_max_len)))\n",
    "    print(\"\\n\")"
   ]
  },
  {
   "cell_type": "markdown",
   "id": "d2af3f90",
   "metadata": {},
   "source": [
    "# 5. Summa을 이용해서 추출적 요약해보기"
   ]
  },
  {
   "cell_type": "code",
   "execution_count": 51,
   "id": "0ffba7bd",
   "metadata": {},
   "outputs": [],
   "source": [
    "from summa.summarizer import summarize"
   ]
  },
  {
   "cell_type": "code",
   "execution_count": 67,
   "id": "deea4611",
   "metadata": {},
   "outputs": [
    {
     "name": "stdout",
     "output_type": "stream",
     "text": [
      "Summary:\n",
      "\n"
     ]
    }
   ],
   "source": [
    "print('Summary:')\n",
    "print(summarize(data['text'][10], words=10))"
   ]
  },
  {
   "cell_type": "code",
   "execution_count": 81,
   "id": "c88819cc",
   "metadata": {},
   "outputs": [
    {
     "data": {
      "text/plain": [
       "'two minor cousins uttar pradesh gorakhpur allegedly repeatedly burnt tongs forced eat human excreta family friends two boys school cousins revealed ordeal police child welfare committee brought back gorakhpur nepal fled escape torture'"
      ]
     },
     "execution_count": 81,
     "metadata": {},
     "output_type": "execute_result"
    }
   ],
   "source": [
    "data['text'][10]"
   ]
  },
  {
   "cell_type": "code",
   "execution_count": 82,
   "id": "0a8ccc8b",
   "metadata": {
    "scrolled": true
   },
   "outputs": [
    {
     "name": "stdout",
     "output_type": "stream",
     "text": [
      "\n"
     ]
    }
   ],
   "source": [
    "print(summarize(data['text'][10]))"
   ]
  },
  {
   "cell_type": "markdown",
   "id": "f73c5d55",
   "metadata": {},
   "source": [
    "##### 왜 안되지.....? 왜 빈칸만 나오지....???? 매트릭스 데이터로 다시 해보자...."
   ]
  },
  {
   "cell_type": "code",
   "execution_count": 69,
   "id": "13958a7a",
   "metadata": {},
   "outputs": [],
   "source": [
    "import requests\n",
    "matrix_text = requests.get('http://rare-technologies.com/the_matrix_synopsis.txt').text"
   ]
  },
  {
   "cell_type": "code",
   "execution_count": 70,
   "id": "0bddf781",
   "metadata": {},
   "outputs": [
    {
     "name": "stdout",
     "output_type": "stream",
     "text": [
      "Summary:\n",
      "Morpheus, Trinity, Neo, Apoc, Switch, Mouse and Cypher are jacked into the Matrix.\n",
      "Trinity brings the helicopter down to the floor that Morpheus is on and Neo opens fire on the three Agents.\n"
     ]
    }
   ],
   "source": [
    "print('Summary:')\n",
    "print(summarize(matrix_text, ratio=0.005))"
   ]
  },
  {
   "cell_type": "code",
   "execution_count": 72,
   "id": "3c2b1ced",
   "metadata": {},
   "outputs": [
    {
     "name": "stdout",
     "output_type": "stream",
     "text": [
      "Summary:\n",
      "['Morpheus, Trinity, Neo, Apoc, Switch, Mouse and Cypher are jacked into the Matrix.', 'Trinity brings the helicopter down to the floor that Morpheus is on and Neo opens fire on the three Agents.']\n"
     ]
    }
   ],
   "source": [
    "print('Summary:')\n",
    "print(summarize(matrix_text, ratio=0.005, split=True))"
   ]
  },
  {
   "cell_type": "code",
   "execution_count": 73,
   "id": "a39dfea6",
   "metadata": {},
   "outputs": [
    {
     "name": "stdout",
     "output_type": "stream",
     "text": [
      "Summary:\n",
      "Trinity takes Neo to Morpheus.\n",
      "Morpheus, Trinity, Neo, Apoc, Switch, Mouse and Cypher are jacked into the Matrix.\n",
      "Trinity brings the helicopter down to the floor that Morpheus is on and Neo opens fire on the three Agents.\n"
     ]
    }
   ],
   "source": [
    "print('Summary:')\n",
    "print(summarize(matrix_text, words=50))"
   ]
  },
  {
   "cell_type": "markdown",
   "id": "b87810d1",
   "metadata": {},
   "source": [
    "##### 뉴스 텍스트 데이터가 짧아서 그런가????....말은 안되겠지만 여러 단락 붙여서 해보자..."
   ]
  },
  {
   "cell_type": "code",
   "execution_count": 75,
   "id": "06063245",
   "metadata": {},
   "outputs": [],
   "source": [
    "test_text=data['text'][0]+data['text'][1]+data['text'][2]+data['text'][3]+data['text'][4]"
   ]
  },
  {
   "cell_type": "code",
   "execution_count": 77,
   "id": "bf6b7ee9",
   "metadata": {},
   "outputs": [
    {
     "data": {
      "text/plain": [
       "'saurav kant alumnus upgrad iiit pg program machine learning artificial intelligence sr systems engineer infosys almost years work experience program upgrad degree career support helped transition data scientist tech mahindra salary hike upgrad online power learning powered lakh careerskunal shah credit card bill payment platform cred gave users chance win free food swiggy one year pranav kaushik delhi techie bagged reward spending cred coins users get one cred coin per rupee bill paid used avail rewards brands like ixigo bookmyshow ubereats cult fitnew zealand defeated india wickets fourth odi hamilton thursday win first match five match odi series india lost international match rohit sharma captaincy consecutive victories dating back march match witnessed india getting seventh lowest total odi cricket historyaegon life iterm insurance plan customers enjoy tax benefits premiums paid save taxes plan provides life cover age years also customers options insure critical illnesses disability accidental death benefit rider life cover age yearsspeaking sexual harassment allegations rajkumar hirani sonam kapoor said known hirani many years true metoo movement get derailed metoo movement always believe woman case need reserve judgment added hirani accused assistant worked sanju'"
      ]
     },
     "execution_count": 77,
     "metadata": {},
     "output_type": "execute_result"
    }
   ],
   "source": [
    "test_text"
   ]
  },
  {
   "cell_type": "code",
   "execution_count": 80,
   "id": "24106c3c",
   "metadata": {},
   "outputs": [
    {
     "name": "stdout",
     "output_type": "stream",
     "text": [
      "Summary:\n",
      "\n"
     ]
    }
   ],
   "source": [
    "print('Summary:')\n",
    "print(summarize(test_text, words=5))"
   ]
  },
  {
   "cell_type": "markdown",
   "id": "3b11460f",
   "metadata": {},
   "source": [
    "##### 그래도 안되네.....모든 문장이 안되는건가? 백개 해보자"
   ]
  },
  {
   "cell_type": "code",
   "execution_count": 90,
   "id": "e4db9bd3",
   "metadata": {},
   "outputs": [
    {
     "name": "stdout",
     "output_type": "stream",
     "text": [
      "Summary:\n",
      "\n",
      "\n",
      "\n",
      "Summary:\n",
      "\n",
      "\n",
      "\n",
      "Summary:\n",
      "\n",
      "\n",
      "\n",
      "Summary:\n",
      "\n",
      "\n",
      "\n",
      "Summary:\n",
      "\n",
      "\n",
      "\n",
      "Summary:\n",
      "\n",
      "\n",
      "\n",
      "Summary:\n",
      "\n",
      "\n",
      "\n",
      "Summary:\n",
      "\n",
      "\n",
      "\n",
      "Summary:\n",
      "\n",
      "\n",
      "\n",
      "Summary:\n",
      "\n",
      "\n",
      "\n",
      "Summary:\n",
      "\n",
      "\n",
      "\n",
      "Summary:\n",
      "\n",
      "\n",
      "\n",
      "Summary:\n",
      "\n",
      "\n",
      "\n",
      "Summary:\n",
      "\n",
      "\n",
      "\n",
      "Summary:\n",
      "\n",
      "\n",
      "\n",
      "Summary:\n",
      "\n",
      "\n",
      "\n",
      "Summary:\n",
      "\n",
      "\n",
      "\n",
      "Summary:\n",
      "\n",
      "\n",
      "\n",
      "Summary:\n",
      "\n",
      "\n",
      "\n",
      "Summary:\n",
      "\n",
      "\n",
      "\n",
      "Summary:\n",
      "\n",
      "\n",
      "\n",
      "Summary:\n",
      "\n",
      "\n",
      "\n",
      "Summary:\n",
      "\n",
      "\n",
      "\n",
      "Summary:\n",
      "\n",
      "\n",
      "\n",
      "Summary:\n",
      "\n",
      "\n",
      "\n",
      "Summary:\n",
      "\n",
      "\n",
      "\n",
      "Summary:\n",
      "\n",
      "\n",
      "\n",
      "Summary:\n",
      "\n",
      "\n",
      "\n",
      "Summary:\n",
      "\n",
      "\n",
      "\n",
      "Summary:\n",
      "\n",
      "\n",
      "\n",
      "Summary:\n",
      "\n",
      "\n",
      "\n",
      "Summary:\n",
      "\n",
      "\n",
      "\n",
      "Summary:\n",
      "\n",
      "\n",
      "\n",
      "Summary:\n",
      "\n",
      "\n",
      "\n",
      "Summary:\n",
      "\n",
      "\n",
      "\n",
      "Summary:\n",
      "\n",
      "\n",
      "\n",
      "Summary:\n",
      "\n",
      "\n",
      "\n",
      "Summary:\n",
      "\n",
      "\n",
      "\n",
      "Summary:\n",
      "\n",
      "\n",
      "\n",
      "Summary:\n",
      "\n",
      "\n",
      "\n",
      "Summary:\n",
      "\n",
      "\n",
      "\n",
      "Summary:\n",
      "\n",
      "\n",
      "\n",
      "Summary:\n",
      "\n",
      "\n",
      "\n",
      "Summary:\n",
      "\n",
      "\n",
      "\n",
      "Summary:\n",
      "\n",
      "\n",
      "\n",
      "Summary:\n",
      "\n",
      "\n",
      "\n",
      "Summary:\n",
      "\n",
      "\n",
      "\n",
      "Summary:\n",
      "\n",
      "\n",
      "\n",
      "Summary:\n",
      "\n",
      "\n",
      "\n",
      "Summary:\n",
      "\n",
      "\n",
      "\n",
      "Summary:\n",
      "\n",
      "\n",
      "\n",
      "Summary:\n",
      "\n",
      "\n",
      "\n",
      "Summary:\n",
      "\n",
      "\n",
      "\n",
      "Summary:\n",
      "\n",
      "\n",
      "\n",
      "Summary:\n",
      "\n",
      "\n",
      "\n",
      "Summary:\n",
      "\n",
      "\n",
      "\n",
      "Summary:\n",
      "\n",
      "\n",
      "\n",
      "Summary:\n",
      "\n",
      "\n",
      "\n",
      "Summary:\n",
      "\n",
      "\n",
      "\n",
      "Summary:\n",
      "\n",
      "\n",
      "\n",
      "Summary:\n",
      "\n",
      "\n",
      "\n",
      "Summary:\n",
      "\n",
      "\n",
      "\n",
      "Summary:\n",
      "\n",
      "\n",
      "\n",
      "Summary:\n",
      "\n",
      "\n",
      "\n",
      "Summary:\n",
      "\n",
      "\n",
      "\n",
      "Summary:\n",
      "\n",
      "\n",
      "\n",
      "Summary:\n",
      "\n",
      "\n",
      "\n",
      "Summary:\n",
      "\n",
      "\n",
      "\n",
      "Summary:\n",
      "\n",
      "\n",
      "\n",
      "Summary:\n",
      "\n",
      "\n",
      "\n",
      "Summary:\n",
      "\n",
      "\n",
      "\n",
      "Summary:\n",
      "\n",
      "\n",
      "\n",
      "Summary:\n",
      "\n",
      "\n",
      "\n",
      "Summary:\n",
      "\n",
      "\n",
      "\n",
      "Summary:\n",
      "\n",
      "\n",
      "\n",
      "Summary:\n",
      "\n",
      "\n",
      "\n",
      "Summary:\n",
      "\n",
      "\n",
      "\n",
      "Summary:\n",
      "\n",
      "\n",
      "\n",
      "Summary:\n",
      "\n",
      "\n",
      "\n",
      "Summary:\n",
      "\n",
      "\n",
      "\n",
      "Summary:\n",
      "\n",
      "\n",
      "\n",
      "Summary:\n",
      "\n",
      "\n",
      "\n"
     ]
    }
   ],
   "source": [
    "for i in range(0, 82):\n",
    "    print('Summary:')\n",
    "    print(summarize(data['text'][i], words=50))\n",
    "    print(\"\\n\")"
   ]
  },
  {
   "cell_type": "code",
   "execution_count": 91,
   "id": "0312a607",
   "metadata": {},
   "outputs": [
    {
     "name": "stdout",
     "output_type": "stream",
     "text": [
      "Summary:\n",
      "\n",
      "\n",
      "\n",
      "Summary:\n",
      "\n",
      "\n",
      "\n",
      "Summary:\n",
      "\n",
      "\n",
      "\n",
      "Summary:\n",
      "\n",
      "\n",
      "\n",
      "Summary:\n",
      "\n",
      "\n",
      "\n",
      "Summary:\n",
      "\n",
      "\n",
      "\n",
      "Summary:\n",
      "\n",
      "\n",
      "\n",
      "Summary:\n",
      "\n",
      "\n",
      "\n",
      "Summary:\n",
      "\n",
      "\n",
      "\n",
      "Summary:\n",
      "\n",
      "\n",
      "\n",
      "Summary:\n",
      "\n",
      "\n",
      "\n",
      "Summary:\n",
      "\n",
      "\n",
      "\n",
      "Summary:\n",
      "\n",
      "\n",
      "\n",
      "Summary:\n",
      "\n",
      "\n",
      "\n",
      "Summary:\n",
      "\n",
      "\n",
      "\n",
      "Summary:\n",
      "\n",
      "\n",
      "\n",
      "Summary:\n",
      "\n",
      "\n",
      "\n",
      "Summary:\n",
      "\n",
      "\n",
      "\n",
      "Summary:\n",
      "\n",
      "\n",
      "\n",
      "Summary:\n",
      "\n",
      "\n",
      "\n",
      "Summary:\n",
      "\n",
      "\n",
      "\n",
      "Summary:\n",
      "\n",
      "\n",
      "\n",
      "Summary:\n",
      "\n",
      "\n",
      "\n",
      "Summary:\n",
      "\n",
      "\n",
      "\n",
      "Summary:\n",
      "\n",
      "\n",
      "\n",
      "Summary:\n",
      "\n",
      "\n",
      "\n",
      "Summary:\n",
      "\n",
      "\n",
      "\n",
      "Summary:\n",
      "\n",
      "\n",
      "\n",
      "Summary:\n",
      "\n",
      "\n",
      "\n",
      "Summary:\n",
      "\n",
      "\n",
      "\n",
      "Summary:\n",
      "\n",
      "\n",
      "\n",
      "Summary:\n",
      "\n",
      "\n",
      "\n",
      "Summary:\n",
      "\n",
      "\n",
      "\n",
      "Summary:\n",
      "\n",
      "\n",
      "\n",
      "Summary:\n",
      "\n",
      "\n",
      "\n",
      "Summary:\n",
      "\n",
      "\n",
      "\n",
      "Summary:\n",
      "\n",
      "\n",
      "\n",
      "Summary:\n",
      "\n",
      "\n",
      "\n",
      "Summary:\n",
      "\n",
      "\n",
      "\n",
      "Summary:\n",
      "\n",
      "\n",
      "\n",
      "Summary:\n",
      "\n",
      "\n",
      "\n",
      "Summary:\n",
      "\n",
      "\n",
      "\n",
      "Summary:\n",
      "\n",
      "\n",
      "\n",
      "Summary:\n",
      "\n",
      "\n",
      "\n",
      "Summary:\n",
      "\n",
      "\n",
      "\n",
      "Summary:\n",
      "\n",
      "\n",
      "\n",
      "Summary:\n",
      "\n",
      "\n",
      "\n",
      "Summary:\n",
      "\n",
      "\n",
      "\n",
      "Summary:\n",
      "\n",
      "\n",
      "\n",
      "Summary:\n",
      "\n",
      "\n",
      "\n",
      "Summary:\n",
      "\n",
      "\n",
      "\n",
      "Summary:\n",
      "\n",
      "\n",
      "\n",
      "Summary:\n",
      "\n",
      "\n",
      "\n",
      "Summary:\n",
      "\n",
      "\n",
      "\n",
      "Summary:\n",
      "\n",
      "\n",
      "\n",
      "Summary:\n",
      "\n",
      "\n",
      "\n",
      "Summary:\n",
      "\n",
      "\n",
      "\n"
     ]
    }
   ],
   "source": [
    "for i in range(84, 141):\n",
    "    print('Summary:')\n",
    "    print(summarize(data['text'][i], words=50))\n",
    "    print(\"\\n\")"
   ]
  },
  {
   "cell_type": "markdown",
   "id": "1778da5a",
   "metadata": {},
   "source": [
    "# 회고\n",
    "\n",
    "- 텍스트 전처리가 생각보다 복잡하고 시간이 많이 걸린다. 자연어처리든 이미지처리든 머신러닝 task는 데이터 전처리가 정말 큰 부분을 차지하는구나.,,,기계는 바보구나... 사람의 뇌는 정말 대단하다\n",
    "- 모델 트레이닝이 1epoch당 3분이 넘게 걸려서 조금 지겨웠다.. 그래서 사실 처음엔 10 epoch만 돌렸다가 충분히 수렴하지 않는 것 같아서 양심적으로 30epoch 훈련했다..그치만 early stopping으로 22epoch에서 멈췄음!\n",
    "- 추상적 요약을 한 것도 사실 headline/text 데이터가 전처리할 때 뭔가 많이 잘려나가서 요약이 말이 되는 말로..?되지 않아서 썩 맘에 드는 느낌이 아니었는데, summa를 사용한 추출적 요약은 아예 결과를 내질 못해서 마무리가 찝찝하다...매트릭스 텍스트는 잘 요약하면서 왜 뉴스는 못하냐..바보패키지.."
   ]
  }
 ],
 "metadata": {
  "kernelspec": {
   "display_name": "Python 3 (ipykernel)",
   "language": "python",
   "name": "python3"
  },
  "language_info": {
   "codemirror_mode": {
    "name": "ipython",
    "version": 3
   },
   "file_extension": ".py",
   "mimetype": "text/x-python",
   "name": "python",
   "nbconvert_exporter": "python",
   "pygments_lexer": "ipython3",
   "version": "3.9.7"
  }
 },
 "nbformat": 4,
 "nbformat_minor": 5
}
